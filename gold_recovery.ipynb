{
 "cells": [
  {
   "cell_type": "markdown",
   "metadata": {},
   "source": [
    "# PROJECT DESCRIPTION\n",
    "________________________\n",
    "A gold mining company develops solutions to improve operational efficiency of its industrial enterprises and requires a prototype machine learning model. The model must predict the recovery rate of gold from the ore and help the company to optimize the extraction process and to avoid launching unprofitable production. The company provided the following chart to briefly describe the technology currently in use:\n",
    "\n",
    "<br/><br/>\n",
    "\n",
    "<img src=\"recovery_chart.jpg\" width=\"500\" height=\"600\">\n",
    "\n",
    "<br/><br/>\n",
    "\n",
    "**Flotation.** The gold ore mixture enters the flotation machine where it mixes with water and small amounts of reagents are added to help the separation of precious metals and selectively coat the desired particles. Then, the frothing agent is added to create thick bubbles that can hold on to these particles. Powerful impellers spin at high speeds to create these bubbles which swirl and rise to the top collecting the particles along the way. The resulting foam then overflows to separate and concentrate the metal bearing particles prior to the next concentrating steps. The output of the process is the rough concentrate.\n",
    "\n",
    "**Cleaning.** The rough concentrate consequently passes two stages of cleaning, or purification, that typically include hydrometallurgy procedures of  chemical dissolution, or leeching, to eventually extract metals.\n",
    "\n",
    "\n",
    "The company uses the following formula to calculate the recovery efficiency:\n",
    "\n",
    "<br/><br/>\n",
    "\n",
    "$$ Recovery = {{C \\times (F-T)} \\over {F \\times (C-T)}} \\times 100\\%, $$\n",
    "\n",
    "<br/><br/>\n",
    "\n",
    "where C is the share of gold in the concentrate after flotation/cleaning, F - is the share of gold in the concentrate before flotation/cleaning, T - is the share of gold in the tailings\n",
    "\n",
    "The Symmetric Mean Absolute Error (sMAPE) is used as the prediction quality metric. It considers the scale of both the target features and the predictions and is calculated as follows:\n",
    "\n",
    "<br/><br/>\n",
    "\n",
    "$$ sMAPE = {1 \\over n}{\\sum_{i = 1}^{n}}{{{|y_i - \\hat{y_i}| \\times{2}} \\over {|y_i| + |\\hat{y_i}|}}} \\times {100\\%}, $$\n",
    "\n",
    "<br/><br/>\n",
    "\n",
    "Two recovery rates should be predicted at a time. First, the gold recovery from the raw feed (mixture), second, from the intermediate product, i.e. after the cleaning/purification stage. The final quality metric has been offered as the linear form below:\n",
    "\n",
    "<br/><br/>\n",
    "\n",
    "$$ Weighted \\ sMAPE = 0.25 \\times sMAPE(rougher) + 0.75 \\times sMAPE(final) $$\n",
    "\n",
    "<br/><br/>"
   ]
  },
  {
   "cell_type": "markdown",
   "metadata": {},
   "source": [
    "# DATA DESCRIPTION\n",
    "___________________\n",
    "\n",
    "There are 3 datasets to work with:\n",
    "- gold_recovery_train.csv\n",
    "- gold_recovery_test.csv\n",
    "- gold_recovery_full.csv\n",
    "\n",
    "According to the company, some features may not be available in the test set and be present in the training data, as they are received with a certain time lag. The full data contains both the test and training sets with all the features. Generally, it is raw data that has just been retrieved from the database. The following provides a gist of it:\n",
    "\n",
    "## Technology\n",
    "\n",
    "* Rougher feed — raw materials\n",
    "* Rougher additions (or reagent additions) — flotation reagents: Xanthate (promoter, or flotation activator), Sulphate (at this project — sodium sulfide), Depressant (sodium silicate).\n",
    "* Rougher process — flotation\n",
    "* Rougher tails — tailings, or subproducts of recovery (occur at each stage)\n",
    "* Float banks — flotation units\n",
    "* Cleaner process — further cleaning/purification\n",
    "* Rougher Au — rough gold concentrate\n",
    "* Final Au — final gold concentrate\n",
    "\n",
    "## Parameters at each stage\n",
    "\n",
    "* air amount\n",
    "* fluid levels\n",
    "* feed size\n",
    "* feed rate\n",
    "\n",
    "## Features\n",
    "\n",
    "[stage].[parameter_type].[parameter_name].\n",
    "Example: rougher.input.feed_ag\n",
    "\n",
    "### Possible values of [stage]:\n",
    "\n",
    "* rougher (flotation)\n",
    "* primary_cleaner\n",
    "* secondary_cleaner\n",
    "* final (output characteristics)\n",
    "\n",
    "### Possible values of [parameter_type]:\n",
    "\n",
    "* input — raw material specs\n",
    "* output — product specs\n",
    "* state — parameters that describe current condition at a stage\n",
    "* calculation — technological/engineering calculations"
   ]
  },
  {
   "cell_type": "markdown",
   "metadata": {},
   "source": [
    "# PROJECT OUTLINE\n",
    "__________________\n",
    "1. Data pre-processing:\n",
    "    1. Open and examine the datasets.\n",
    "    2. Check recovery rate calculations by findind MAE of formula (given in the project description) results and existing feature values. Draw conclusions.\n",
    "    3. Examine unavailable features in the test sample.\n",
    "    4. Prepare data for further research.\n",
    "\n",
    "\n",
    "2. Exploratory Data Analysis:\n",
    "    1. Track changes in metal concentrations (Au, Ag, Pb) from one stage to another. Draw conclusions.\n",
    "    2. Compare feed size distributions within both the training and test samples. In case of significant differences, model predictions would be incorrect.\n",
    "    3. Analyze total concentration of all components at all stages of recovery, i.e. in feed (raw material), primary, secondary, and final concentrate. Draw conclusions.\n",
    "\n",
    "\n",
    "3. Modeling:\n",
    "    1. Write a function for the final sMAPE.\n",
    "    2. Train different models and cross-validate their quality. Pick the best one and check on the test sample. Draw conclusions."
   ]
  },
  {
   "cell_type": "markdown",
   "metadata": {},
   "source": [
    "# 1. DATA PRE-PROCESSING\n",
    "_____________________\n",
    "This stage starts with the import of the necessary libraries and declaration of some global variables. It then introduces the working datasets which are checked for empty entries, irregular formats and erroneous calculations. Finally, pre-procession is carried out with brief conclusions."
   ]
  },
  {
   "cell_type": "markdown",
   "metadata": {},
   "source": [
    "## A. Downloading and Examination of Data"
   ]
  },
  {
   "cell_type": "code",
   "execution_count": 1,
   "metadata": {},
   "outputs": [],
   "source": [
    "import pandas as pd\n",
    "import numpy as np\n",
    "from matplotlib import pyplot as plt\n",
    "from scipy import stats as st\n",
    "import warnings\n",
    "from sklearn.model_selection import train_test_split\n",
    "from sklearn.linear_model import LinearRegression\n",
    "from sklearn.svm import SVR\n",
    "from sklearn.metrics import make_scorer\n",
    "from sklearn.preprocessing import StandardScaler\n",
    "from sklearn.model_selection import cross_val_score\n",
    "\n",
    "RANDOM_STATE = 9348\n",
    "FLOAT_SMAPE_WEIGHT = .25\n",
    "FINAL_SMAPE_WEIGHT = .75"
   ]
  },
  {
   "cell_type": "markdown",
   "metadata": {},
   "source": [
    "The decision to import the above models is explained in the \"Modeling\" section."
   ]
  },
  {
   "cell_type": "code",
   "execution_count": 2,
   "metadata": {},
   "outputs": [
    {
     "data": {
      "text/html": [
       "<div>\n",
       "<style scoped>\n",
       "    .dataframe tbody tr th:only-of-type {\n",
       "        vertical-align: middle;\n",
       "    }\n",
       "\n",
       "    .dataframe tbody tr th {\n",
       "        vertical-align: top;\n",
       "    }\n",
       "\n",
       "    .dataframe thead th {\n",
       "        text-align: right;\n",
       "    }\n",
       "</style>\n",
       "<table border=\"1\" class=\"dataframe\">\n",
       "  <thead>\n",
       "    <tr style=\"text-align: right;\">\n",
       "      <th></th>\n",
       "      <th>date</th>\n",
       "      <th>final.output.concentrate_ag</th>\n",
       "      <th>final.output.concentrate_pb</th>\n",
       "      <th>final.output.concentrate_sol</th>\n",
       "      <th>final.output.concentrate_au</th>\n",
       "      <th>final.output.recovery</th>\n",
       "      <th>final.output.tail_ag</th>\n",
       "      <th>final.output.tail_pb</th>\n",
       "      <th>final.output.tail_sol</th>\n",
       "      <th>final.output.tail_au</th>\n",
       "      <th>...</th>\n",
       "      <th>secondary_cleaner.state.floatbank4_a_air</th>\n",
       "      <th>secondary_cleaner.state.floatbank4_a_level</th>\n",
       "      <th>secondary_cleaner.state.floatbank4_b_air</th>\n",
       "      <th>secondary_cleaner.state.floatbank4_b_level</th>\n",
       "      <th>secondary_cleaner.state.floatbank5_a_air</th>\n",
       "      <th>secondary_cleaner.state.floatbank5_a_level</th>\n",
       "      <th>secondary_cleaner.state.floatbank5_b_air</th>\n",
       "      <th>secondary_cleaner.state.floatbank5_b_level</th>\n",
       "      <th>secondary_cleaner.state.floatbank6_a_air</th>\n",
       "      <th>secondary_cleaner.state.floatbank6_a_level</th>\n",
       "    </tr>\n",
       "  </thead>\n",
       "  <tbody>\n",
       "    <tr>\n",
       "      <th>0</th>\n",
       "      <td>2016-01-15 00:00:00</td>\n",
       "      <td>6.055403</td>\n",
       "      <td>9.889648</td>\n",
       "      <td>5.507324</td>\n",
       "      <td>42.192020</td>\n",
       "      <td>70.541216</td>\n",
       "      <td>10.411962</td>\n",
       "      <td>0.895447</td>\n",
       "      <td>16.904297</td>\n",
       "      <td>2.143149</td>\n",
       "      <td>...</td>\n",
       "      <td>14.016835</td>\n",
       "      <td>-502.488007</td>\n",
       "      <td>12.099931</td>\n",
       "      <td>-504.715942</td>\n",
       "      <td>9.925633</td>\n",
       "      <td>-498.310211</td>\n",
       "      <td>8.079666</td>\n",
       "      <td>-500.470978</td>\n",
       "      <td>14.151341</td>\n",
       "      <td>-605.841980</td>\n",
       "    </tr>\n",
       "    <tr>\n",
       "      <th>1</th>\n",
       "      <td>2016-01-15 01:00:00</td>\n",
       "      <td>6.029369</td>\n",
       "      <td>9.968944</td>\n",
       "      <td>5.257781</td>\n",
       "      <td>42.701629</td>\n",
       "      <td>69.266198</td>\n",
       "      <td>10.462676</td>\n",
       "      <td>0.927452</td>\n",
       "      <td>16.634514</td>\n",
       "      <td>2.224930</td>\n",
       "      <td>...</td>\n",
       "      <td>13.992281</td>\n",
       "      <td>-505.503262</td>\n",
       "      <td>11.950531</td>\n",
       "      <td>-501.331529</td>\n",
       "      <td>10.039245</td>\n",
       "      <td>-500.169983</td>\n",
       "      <td>7.984757</td>\n",
       "      <td>-500.582168</td>\n",
       "      <td>13.998353</td>\n",
       "      <td>-599.787184</td>\n",
       "    </tr>\n",
       "    <tr>\n",
       "      <th>2</th>\n",
       "      <td>2016-01-15 02:00:00</td>\n",
       "      <td>6.055926</td>\n",
       "      <td>10.213995</td>\n",
       "      <td>5.383759</td>\n",
       "      <td>42.657501</td>\n",
       "      <td>68.116445</td>\n",
       "      <td>10.507046</td>\n",
       "      <td>0.953716</td>\n",
       "      <td>16.208849</td>\n",
       "      <td>2.257889</td>\n",
       "      <td>...</td>\n",
       "      <td>14.015015</td>\n",
       "      <td>-502.520901</td>\n",
       "      <td>11.912783</td>\n",
       "      <td>-501.133383</td>\n",
       "      <td>10.070913</td>\n",
       "      <td>-500.129135</td>\n",
       "      <td>8.013877</td>\n",
       "      <td>-500.517572</td>\n",
       "      <td>14.028663</td>\n",
       "      <td>-601.427363</td>\n",
       "    </tr>\n",
       "    <tr>\n",
       "      <th>3</th>\n",
       "      <td>2016-01-15 03:00:00</td>\n",
       "      <td>6.047977</td>\n",
       "      <td>9.977019</td>\n",
       "      <td>4.858634</td>\n",
       "      <td>42.689819</td>\n",
       "      <td>68.347543</td>\n",
       "      <td>10.422762</td>\n",
       "      <td>0.883763</td>\n",
       "      <td>16.532835</td>\n",
       "      <td>2.146849</td>\n",
       "      <td>...</td>\n",
       "      <td>14.036510</td>\n",
       "      <td>-500.857308</td>\n",
       "      <td>11.999550</td>\n",
       "      <td>-501.193686</td>\n",
       "      <td>9.970366</td>\n",
       "      <td>-499.201640</td>\n",
       "      <td>7.977324</td>\n",
       "      <td>-500.255908</td>\n",
       "      <td>14.005551</td>\n",
       "      <td>-599.996129</td>\n",
       "    </tr>\n",
       "    <tr>\n",
       "      <th>4</th>\n",
       "      <td>2016-01-15 04:00:00</td>\n",
       "      <td>6.148599</td>\n",
       "      <td>10.142511</td>\n",
       "      <td>4.939416</td>\n",
       "      <td>42.774141</td>\n",
       "      <td>66.927016</td>\n",
       "      <td>10.360302</td>\n",
       "      <td>0.792826</td>\n",
       "      <td>16.525686</td>\n",
       "      <td>2.055292</td>\n",
       "      <td>...</td>\n",
       "      <td>14.027298</td>\n",
       "      <td>-499.838632</td>\n",
       "      <td>11.953070</td>\n",
       "      <td>-501.053894</td>\n",
       "      <td>9.925709</td>\n",
       "      <td>-501.686727</td>\n",
       "      <td>7.894242</td>\n",
       "      <td>-500.356035</td>\n",
       "      <td>13.996647</td>\n",
       "      <td>-601.496691</td>\n",
       "    </tr>\n",
       "  </tbody>\n",
       "</table>\n",
       "<p>5 rows × 87 columns</p>\n",
       "</div>"
      ],
      "text/plain": [
       "                  date  final.output.concentrate_ag  \\\n",
       "0  2016-01-15 00:00:00                     6.055403   \n",
       "1  2016-01-15 01:00:00                     6.029369   \n",
       "2  2016-01-15 02:00:00                     6.055926   \n",
       "3  2016-01-15 03:00:00                     6.047977   \n",
       "4  2016-01-15 04:00:00                     6.148599   \n",
       "\n",
       "   final.output.concentrate_pb  final.output.concentrate_sol  \\\n",
       "0                     9.889648                      5.507324   \n",
       "1                     9.968944                      5.257781   \n",
       "2                    10.213995                      5.383759   \n",
       "3                     9.977019                      4.858634   \n",
       "4                    10.142511                      4.939416   \n",
       "\n",
       "   final.output.concentrate_au  final.output.recovery  final.output.tail_ag  \\\n",
       "0                    42.192020              70.541216             10.411962   \n",
       "1                    42.701629              69.266198             10.462676   \n",
       "2                    42.657501              68.116445             10.507046   \n",
       "3                    42.689819              68.347543             10.422762   \n",
       "4                    42.774141              66.927016             10.360302   \n",
       "\n",
       "   final.output.tail_pb  final.output.tail_sol  final.output.tail_au  ...  \\\n",
       "0              0.895447              16.904297              2.143149  ...   \n",
       "1              0.927452              16.634514              2.224930  ...   \n",
       "2              0.953716              16.208849              2.257889  ...   \n",
       "3              0.883763              16.532835              2.146849  ...   \n",
       "4              0.792826              16.525686              2.055292  ...   \n",
       "\n",
       "   secondary_cleaner.state.floatbank4_a_air  \\\n",
       "0                                 14.016835   \n",
       "1                                 13.992281   \n",
       "2                                 14.015015   \n",
       "3                                 14.036510   \n",
       "4                                 14.027298   \n",
       "\n",
       "   secondary_cleaner.state.floatbank4_a_level  \\\n",
       "0                                 -502.488007   \n",
       "1                                 -505.503262   \n",
       "2                                 -502.520901   \n",
       "3                                 -500.857308   \n",
       "4                                 -499.838632   \n",
       "\n",
       "   secondary_cleaner.state.floatbank4_b_air  \\\n",
       "0                                 12.099931   \n",
       "1                                 11.950531   \n",
       "2                                 11.912783   \n",
       "3                                 11.999550   \n",
       "4                                 11.953070   \n",
       "\n",
       "   secondary_cleaner.state.floatbank4_b_level  \\\n",
       "0                                 -504.715942   \n",
       "1                                 -501.331529   \n",
       "2                                 -501.133383   \n",
       "3                                 -501.193686   \n",
       "4                                 -501.053894   \n",
       "\n",
       "   secondary_cleaner.state.floatbank5_a_air  \\\n",
       "0                                  9.925633   \n",
       "1                                 10.039245   \n",
       "2                                 10.070913   \n",
       "3                                  9.970366   \n",
       "4                                  9.925709   \n",
       "\n",
       "   secondary_cleaner.state.floatbank5_a_level  \\\n",
       "0                                 -498.310211   \n",
       "1                                 -500.169983   \n",
       "2                                 -500.129135   \n",
       "3                                 -499.201640   \n",
       "4                                 -501.686727   \n",
       "\n",
       "   secondary_cleaner.state.floatbank5_b_air  \\\n",
       "0                                  8.079666   \n",
       "1                                  7.984757   \n",
       "2                                  8.013877   \n",
       "3                                  7.977324   \n",
       "4                                  7.894242   \n",
       "\n",
       "   secondary_cleaner.state.floatbank5_b_level  \\\n",
       "0                                 -500.470978   \n",
       "1                                 -500.582168   \n",
       "2                                 -500.517572   \n",
       "3                                 -500.255908   \n",
       "4                                 -500.356035   \n",
       "\n",
       "   secondary_cleaner.state.floatbank6_a_air  \\\n",
       "0                                 14.151341   \n",
       "1                                 13.998353   \n",
       "2                                 14.028663   \n",
       "3                                 14.005551   \n",
       "4                                 13.996647   \n",
       "\n",
       "   secondary_cleaner.state.floatbank6_a_level  \n",
       "0                                 -605.841980  \n",
       "1                                 -599.787184  \n",
       "2                                 -601.427363  \n",
       "3                                 -599.996129  \n",
       "4                                 -601.496691  \n",
       "\n",
       "[5 rows x 87 columns]"
      ]
     },
     "execution_count": 2,
     "metadata": {},
     "output_type": "execute_result"
    }
   ],
   "source": [
    "gold_recovery_full = pd.read_csv(\"gold_recovery_full.csv\")\n",
    "gold_recovery_full.head()\n",
    "#gold_recovery_full.info()"
   ]
  },
  {
   "cell_type": "markdown",
   "metadata": {},
   "source": [
    "The main (full) dataframe is quite a bulky table that consists of 22,716 rows and 87 columns, so printing the first few objects and metadata (the line is commented out) is not that illustrative. This forces us to act analytically and pre-process data without displaying it where possible.\n",
    "\n",
    "All the column names are in accordance with the template explained in the \"Data Description\" cell. With the exception of date, all the entries are floats. Unfortunately, the company has not provided units and it is unclear how the features are measured. \n",
    "\n",
    "Finally, all the columns, except the date, contain none types, which can potentially complicate further manipulations. Although their number is not critical, it is worth considering them more carefully."
   ]
  },
  {
   "cell_type": "code",
   "execution_count": 3,
   "metadata": {},
   "outputs": [],
   "source": [
    "def check_null(dataframe): \n",
    "    null_dict = dict()\n",
    "    for name in list(dataframe.columns):\n",
    "        null_count = dataframe[name].isna().sum()\n",
    "        null_dict.update({name: null_count})\n",
    "    null_stats = pd.Series(null_dict)\n",
    "    return null_stats"
   ]
  },
  {
   "cell_type": "markdown",
   "metadata": {},
   "source": [
    "The function above assumes a dataframe, creates an empty dict, fills it with column names as keys and missing entries count as values, and prints out short stats. Let us check how many blanks the first dataset contains."
   ]
  },
  {
   "cell_type": "code",
   "execution_count": 4,
   "metadata": {},
   "outputs": [
    {
     "data": {
      "text/plain": [
       "rougher.output.recovery               3119\n",
       "rougher.output.tail_ag                2737\n",
       "rougher.output.tail_sol               2736\n",
       "rougher.output.tail_au                2736\n",
       "rougher.input.floatbank11_xanthate    2257\n",
       "dtype: int64"
      ]
     },
     "execution_count": 4,
     "metadata": {},
     "output_type": "execute_result"
    }
   ],
   "source": [
    "check_null(gold_recovery_full).sort_values(ascending = False).head()"
   ]
  },
  {
   "cell_type": "markdown",
   "metadata": {},
   "source": [
    "Indeed, there are not too many of them, nonetheless, they are mostly present in one of the target features - gold recovery rate after the flotation unit. This parameter has 3119 missing values (around 14% of the sample). Basically, only 4 variables exceed 10% share of gaps. It should be noted though that the distribution of all these gaps within the dataframe might be critical. Let us check then how many objects would be lost if all the none types are dropped in the simplest manner."
   ]
  },
  {
   "cell_type": "code",
   "execution_count": 5,
   "metadata": {},
   "outputs": [
    {
     "name": "stdout",
     "output_type": "stream",
     "text": [
      "6622 objects, or 29.15125902447614% of the sample\n"
     ]
    }
   ],
   "source": [
    "drop_loss = gold_recovery_full.shape[0] - gold_recovery_full.dropna().shape[0]\n",
    "print(f'{drop_loss} objects, or {drop_loss * 100 / len(gold_recovery_full)}% of the sample')"
   ]
  },
  {
   "cell_type": "markdown",
   "metadata": {},
   "source": [
    "The overall data loss is estimated to constitute about a third of the sample, which is quite a lot. We shall get back to this problem later after opening other files."
   ]
  },
  {
   "cell_type": "code",
   "execution_count": 6,
   "metadata": {},
   "outputs": [
    {
     "data": {
      "text/html": [
       "<div>\n",
       "<style scoped>\n",
       "    .dataframe tbody tr th:only-of-type {\n",
       "        vertical-align: middle;\n",
       "    }\n",
       "\n",
       "    .dataframe tbody tr th {\n",
       "        vertical-align: top;\n",
       "    }\n",
       "\n",
       "    .dataframe thead th {\n",
       "        text-align: right;\n",
       "    }\n",
       "</style>\n",
       "<table border=\"1\" class=\"dataframe\">\n",
       "  <thead>\n",
       "    <tr style=\"text-align: right;\">\n",
       "      <th></th>\n",
       "      <th>date</th>\n",
       "      <th>final.output.concentrate_ag</th>\n",
       "      <th>final.output.concentrate_pb</th>\n",
       "      <th>final.output.concentrate_sol</th>\n",
       "      <th>final.output.concentrate_au</th>\n",
       "      <th>final.output.recovery</th>\n",
       "      <th>final.output.tail_ag</th>\n",
       "      <th>final.output.tail_pb</th>\n",
       "      <th>final.output.tail_sol</th>\n",
       "      <th>final.output.tail_au</th>\n",
       "      <th>...</th>\n",
       "      <th>secondary_cleaner.state.floatbank4_a_air</th>\n",
       "      <th>secondary_cleaner.state.floatbank4_a_level</th>\n",
       "      <th>secondary_cleaner.state.floatbank4_b_air</th>\n",
       "      <th>secondary_cleaner.state.floatbank4_b_level</th>\n",
       "      <th>secondary_cleaner.state.floatbank5_a_air</th>\n",
       "      <th>secondary_cleaner.state.floatbank5_a_level</th>\n",
       "      <th>secondary_cleaner.state.floatbank5_b_air</th>\n",
       "      <th>secondary_cleaner.state.floatbank5_b_level</th>\n",
       "      <th>secondary_cleaner.state.floatbank6_a_air</th>\n",
       "      <th>secondary_cleaner.state.floatbank6_a_level</th>\n",
       "    </tr>\n",
       "  </thead>\n",
       "  <tbody>\n",
       "    <tr>\n",
       "      <th>0</th>\n",
       "      <td>2016-01-15 00:00:00</td>\n",
       "      <td>6.055403</td>\n",
       "      <td>9.889648</td>\n",
       "      <td>5.507324</td>\n",
       "      <td>42.192020</td>\n",
       "      <td>70.541216</td>\n",
       "      <td>10.411962</td>\n",
       "      <td>0.895447</td>\n",
       "      <td>16.904297</td>\n",
       "      <td>2.143149</td>\n",
       "      <td>...</td>\n",
       "      <td>14.016835</td>\n",
       "      <td>-502.488007</td>\n",
       "      <td>12.099931</td>\n",
       "      <td>-504.715942</td>\n",
       "      <td>9.925633</td>\n",
       "      <td>-498.310211</td>\n",
       "      <td>8.079666</td>\n",
       "      <td>-500.470978</td>\n",
       "      <td>14.151341</td>\n",
       "      <td>-605.841980</td>\n",
       "    </tr>\n",
       "    <tr>\n",
       "      <th>1</th>\n",
       "      <td>2016-01-15 01:00:00</td>\n",
       "      <td>6.029369</td>\n",
       "      <td>9.968944</td>\n",
       "      <td>5.257781</td>\n",
       "      <td>42.701629</td>\n",
       "      <td>69.266198</td>\n",
       "      <td>10.462676</td>\n",
       "      <td>0.927452</td>\n",
       "      <td>16.634514</td>\n",
       "      <td>2.224930</td>\n",
       "      <td>...</td>\n",
       "      <td>13.992281</td>\n",
       "      <td>-505.503262</td>\n",
       "      <td>11.950531</td>\n",
       "      <td>-501.331529</td>\n",
       "      <td>10.039245</td>\n",
       "      <td>-500.169983</td>\n",
       "      <td>7.984757</td>\n",
       "      <td>-500.582168</td>\n",
       "      <td>13.998353</td>\n",
       "      <td>-599.787184</td>\n",
       "    </tr>\n",
       "    <tr>\n",
       "      <th>2</th>\n",
       "      <td>2016-01-15 02:00:00</td>\n",
       "      <td>6.055926</td>\n",
       "      <td>10.213995</td>\n",
       "      <td>5.383759</td>\n",
       "      <td>42.657501</td>\n",
       "      <td>68.116445</td>\n",
       "      <td>10.507046</td>\n",
       "      <td>0.953716</td>\n",
       "      <td>16.208849</td>\n",
       "      <td>2.257889</td>\n",
       "      <td>...</td>\n",
       "      <td>14.015015</td>\n",
       "      <td>-502.520901</td>\n",
       "      <td>11.912783</td>\n",
       "      <td>-501.133383</td>\n",
       "      <td>10.070913</td>\n",
       "      <td>-500.129135</td>\n",
       "      <td>8.013877</td>\n",
       "      <td>-500.517572</td>\n",
       "      <td>14.028663</td>\n",
       "      <td>-601.427363</td>\n",
       "    </tr>\n",
       "    <tr>\n",
       "      <th>3</th>\n",
       "      <td>2016-01-15 03:00:00</td>\n",
       "      <td>6.047977</td>\n",
       "      <td>9.977019</td>\n",
       "      <td>4.858634</td>\n",
       "      <td>42.689819</td>\n",
       "      <td>68.347543</td>\n",
       "      <td>10.422762</td>\n",
       "      <td>0.883763</td>\n",
       "      <td>16.532835</td>\n",
       "      <td>2.146849</td>\n",
       "      <td>...</td>\n",
       "      <td>14.036510</td>\n",
       "      <td>-500.857308</td>\n",
       "      <td>11.999550</td>\n",
       "      <td>-501.193686</td>\n",
       "      <td>9.970366</td>\n",
       "      <td>-499.201640</td>\n",
       "      <td>7.977324</td>\n",
       "      <td>-500.255908</td>\n",
       "      <td>14.005551</td>\n",
       "      <td>-599.996129</td>\n",
       "    </tr>\n",
       "    <tr>\n",
       "      <th>4</th>\n",
       "      <td>2016-01-15 04:00:00</td>\n",
       "      <td>6.148599</td>\n",
       "      <td>10.142511</td>\n",
       "      <td>4.939416</td>\n",
       "      <td>42.774141</td>\n",
       "      <td>66.927016</td>\n",
       "      <td>10.360302</td>\n",
       "      <td>0.792826</td>\n",
       "      <td>16.525686</td>\n",
       "      <td>2.055292</td>\n",
       "      <td>...</td>\n",
       "      <td>14.027298</td>\n",
       "      <td>-499.838632</td>\n",
       "      <td>11.953070</td>\n",
       "      <td>-501.053894</td>\n",
       "      <td>9.925709</td>\n",
       "      <td>-501.686727</td>\n",
       "      <td>7.894242</td>\n",
       "      <td>-500.356035</td>\n",
       "      <td>13.996647</td>\n",
       "      <td>-601.496691</td>\n",
       "    </tr>\n",
       "  </tbody>\n",
       "</table>\n",
       "<p>5 rows × 87 columns</p>\n",
       "</div>"
      ],
      "text/plain": [
       "                  date  final.output.concentrate_ag  \\\n",
       "0  2016-01-15 00:00:00                     6.055403   \n",
       "1  2016-01-15 01:00:00                     6.029369   \n",
       "2  2016-01-15 02:00:00                     6.055926   \n",
       "3  2016-01-15 03:00:00                     6.047977   \n",
       "4  2016-01-15 04:00:00                     6.148599   \n",
       "\n",
       "   final.output.concentrate_pb  final.output.concentrate_sol  \\\n",
       "0                     9.889648                      5.507324   \n",
       "1                     9.968944                      5.257781   \n",
       "2                    10.213995                      5.383759   \n",
       "3                     9.977019                      4.858634   \n",
       "4                    10.142511                      4.939416   \n",
       "\n",
       "   final.output.concentrate_au  final.output.recovery  final.output.tail_ag  \\\n",
       "0                    42.192020              70.541216             10.411962   \n",
       "1                    42.701629              69.266198             10.462676   \n",
       "2                    42.657501              68.116445             10.507046   \n",
       "3                    42.689819              68.347543             10.422762   \n",
       "4                    42.774141              66.927016             10.360302   \n",
       "\n",
       "   final.output.tail_pb  final.output.tail_sol  final.output.tail_au  ...  \\\n",
       "0              0.895447              16.904297              2.143149  ...   \n",
       "1              0.927452              16.634514              2.224930  ...   \n",
       "2              0.953716              16.208849              2.257889  ...   \n",
       "3              0.883763              16.532835              2.146849  ...   \n",
       "4              0.792826              16.525686              2.055292  ...   \n",
       "\n",
       "   secondary_cleaner.state.floatbank4_a_air  \\\n",
       "0                                 14.016835   \n",
       "1                                 13.992281   \n",
       "2                                 14.015015   \n",
       "3                                 14.036510   \n",
       "4                                 14.027298   \n",
       "\n",
       "   secondary_cleaner.state.floatbank4_a_level  \\\n",
       "0                                 -502.488007   \n",
       "1                                 -505.503262   \n",
       "2                                 -502.520901   \n",
       "3                                 -500.857308   \n",
       "4                                 -499.838632   \n",
       "\n",
       "   secondary_cleaner.state.floatbank4_b_air  \\\n",
       "0                                 12.099931   \n",
       "1                                 11.950531   \n",
       "2                                 11.912783   \n",
       "3                                 11.999550   \n",
       "4                                 11.953070   \n",
       "\n",
       "   secondary_cleaner.state.floatbank4_b_level  \\\n",
       "0                                 -504.715942   \n",
       "1                                 -501.331529   \n",
       "2                                 -501.133383   \n",
       "3                                 -501.193686   \n",
       "4                                 -501.053894   \n",
       "\n",
       "   secondary_cleaner.state.floatbank5_a_air  \\\n",
       "0                                  9.925633   \n",
       "1                                 10.039245   \n",
       "2                                 10.070913   \n",
       "3                                  9.970366   \n",
       "4                                  9.925709   \n",
       "\n",
       "   secondary_cleaner.state.floatbank5_a_level  \\\n",
       "0                                 -498.310211   \n",
       "1                                 -500.169983   \n",
       "2                                 -500.129135   \n",
       "3                                 -499.201640   \n",
       "4                                 -501.686727   \n",
       "\n",
       "   secondary_cleaner.state.floatbank5_b_air  \\\n",
       "0                                  8.079666   \n",
       "1                                  7.984757   \n",
       "2                                  8.013877   \n",
       "3                                  7.977324   \n",
       "4                                  7.894242   \n",
       "\n",
       "   secondary_cleaner.state.floatbank5_b_level  \\\n",
       "0                                 -500.470978   \n",
       "1                                 -500.582168   \n",
       "2                                 -500.517572   \n",
       "3                                 -500.255908   \n",
       "4                                 -500.356035   \n",
       "\n",
       "   secondary_cleaner.state.floatbank6_a_air  \\\n",
       "0                                 14.151341   \n",
       "1                                 13.998353   \n",
       "2                                 14.028663   \n",
       "3                                 14.005551   \n",
       "4                                 13.996647   \n",
       "\n",
       "   secondary_cleaner.state.floatbank6_a_level  \n",
       "0                                 -605.841980  \n",
       "1                                 -599.787184  \n",
       "2                                 -601.427363  \n",
       "3                                 -599.996129  \n",
       "4                                 -601.496691  \n",
       "\n",
       "[5 rows x 87 columns]"
      ]
     },
     "execution_count": 6,
     "metadata": {},
     "output_type": "execute_result"
    }
   ],
   "source": [
    "gold_recovery_train = pd.read_csv('gold_recovery_train.csv')\n",
    "gold_recovery_train.head()\n",
    "#gold_recovery_train.info()\n",
    "#gold_recovery_train.shape[0] * 100 / gold_recovery_full.shape[0]"
   ]
  },
  {
   "cell_type": "markdown",
   "metadata": {},
   "source": [
    "This table is a training sample which has been withdrawn independently by the company from the full dataframe. All the previous remarks, thus, hold true about this one. The last line (commented out) says that the split was performed in 75:25 proportion. It means that the last dataset must constitute around 25% of the full one. Consider the gaps."
   ]
  },
  {
   "cell_type": "code",
   "execution_count": 7,
   "metadata": {},
   "outputs": [
    {
     "data": {
      "text/plain": [
       "rougher.output.recovery              2573\n",
       "rougher.output.tail_ag               2250\n",
       "rougher.output.tail_sol              2249\n",
       "rougher.output.tail_au               2249\n",
       "secondary_cleaner.output.tail_sol    1986\n",
       "dtype: int64"
      ]
     },
     "execution_count": 7,
     "metadata": {},
     "output_type": "execute_result"
    }
   ],
   "source": [
    "check_null(gold_recovery_train).sort_values(ascending = False).head()"
   ]
  },
  {
   "cell_type": "markdown",
   "metadata": {},
   "source": [
    "The order of the values obtained is the same as in the full dataset. However, the training sample has noticeably less blanks among the post-floatation recovery rates. Below is the last dataset."
   ]
  },
  {
   "cell_type": "code",
   "execution_count": 8,
   "metadata": {},
   "outputs": [
    {
     "data": {
      "text/html": [
       "<div>\n",
       "<style scoped>\n",
       "    .dataframe tbody tr th:only-of-type {\n",
       "        vertical-align: middle;\n",
       "    }\n",
       "\n",
       "    .dataframe tbody tr th {\n",
       "        vertical-align: top;\n",
       "    }\n",
       "\n",
       "    .dataframe thead th {\n",
       "        text-align: right;\n",
       "    }\n",
       "</style>\n",
       "<table border=\"1\" class=\"dataframe\">\n",
       "  <thead>\n",
       "    <tr style=\"text-align: right;\">\n",
       "      <th></th>\n",
       "      <th>date</th>\n",
       "      <th>primary_cleaner.input.sulfate</th>\n",
       "      <th>primary_cleaner.input.depressant</th>\n",
       "      <th>primary_cleaner.input.feed_size</th>\n",
       "      <th>primary_cleaner.input.xanthate</th>\n",
       "      <th>primary_cleaner.state.floatbank8_a_air</th>\n",
       "      <th>primary_cleaner.state.floatbank8_a_level</th>\n",
       "      <th>primary_cleaner.state.floatbank8_b_air</th>\n",
       "      <th>primary_cleaner.state.floatbank8_b_level</th>\n",
       "      <th>primary_cleaner.state.floatbank8_c_air</th>\n",
       "      <th>...</th>\n",
       "      <th>secondary_cleaner.state.floatbank4_a_air</th>\n",
       "      <th>secondary_cleaner.state.floatbank4_a_level</th>\n",
       "      <th>secondary_cleaner.state.floatbank4_b_air</th>\n",
       "      <th>secondary_cleaner.state.floatbank4_b_level</th>\n",
       "      <th>secondary_cleaner.state.floatbank5_a_air</th>\n",
       "      <th>secondary_cleaner.state.floatbank5_a_level</th>\n",
       "      <th>secondary_cleaner.state.floatbank5_b_air</th>\n",
       "      <th>secondary_cleaner.state.floatbank5_b_level</th>\n",
       "      <th>secondary_cleaner.state.floatbank6_a_air</th>\n",
       "      <th>secondary_cleaner.state.floatbank6_a_level</th>\n",
       "    </tr>\n",
       "  </thead>\n",
       "  <tbody>\n",
       "    <tr>\n",
       "      <th>0</th>\n",
       "      <td>2016-09-01 00:59:59</td>\n",
       "      <td>210.800909</td>\n",
       "      <td>14.993118</td>\n",
       "      <td>8.080000</td>\n",
       "      <td>1.005021</td>\n",
       "      <td>1398.981301</td>\n",
       "      <td>-500.225577</td>\n",
       "      <td>1399.144926</td>\n",
       "      <td>-499.919735</td>\n",
       "      <td>1400.102998</td>\n",
       "      <td>...</td>\n",
       "      <td>12.023554</td>\n",
       "      <td>-497.795834</td>\n",
       "      <td>8.016656</td>\n",
       "      <td>-501.289139</td>\n",
       "      <td>7.946562</td>\n",
       "      <td>-432.317850</td>\n",
       "      <td>4.872511</td>\n",
       "      <td>-500.037437</td>\n",
       "      <td>26.705889</td>\n",
       "      <td>-499.709414</td>\n",
       "    </tr>\n",
       "    <tr>\n",
       "      <th>1</th>\n",
       "      <td>2016-09-01 01:59:59</td>\n",
       "      <td>215.392455</td>\n",
       "      <td>14.987471</td>\n",
       "      <td>8.080000</td>\n",
       "      <td>0.990469</td>\n",
       "      <td>1398.777912</td>\n",
       "      <td>-500.057435</td>\n",
       "      <td>1398.055362</td>\n",
       "      <td>-499.778182</td>\n",
       "      <td>1396.151033</td>\n",
       "      <td>...</td>\n",
       "      <td>12.058140</td>\n",
       "      <td>-498.695773</td>\n",
       "      <td>8.130979</td>\n",
       "      <td>-499.634209</td>\n",
       "      <td>7.958270</td>\n",
       "      <td>-525.839648</td>\n",
       "      <td>4.878850</td>\n",
       "      <td>-500.162375</td>\n",
       "      <td>25.019940</td>\n",
       "      <td>-499.819438</td>\n",
       "    </tr>\n",
       "    <tr>\n",
       "      <th>2</th>\n",
       "      <td>2016-09-01 02:59:59</td>\n",
       "      <td>215.259946</td>\n",
       "      <td>12.884934</td>\n",
       "      <td>7.786667</td>\n",
       "      <td>0.996043</td>\n",
       "      <td>1398.493666</td>\n",
       "      <td>-500.868360</td>\n",
       "      <td>1398.860436</td>\n",
       "      <td>-499.764529</td>\n",
       "      <td>1398.075709</td>\n",
       "      <td>...</td>\n",
       "      <td>11.962366</td>\n",
       "      <td>-498.767484</td>\n",
       "      <td>8.096893</td>\n",
       "      <td>-500.827423</td>\n",
       "      <td>8.071056</td>\n",
       "      <td>-500.801673</td>\n",
       "      <td>4.905125</td>\n",
       "      <td>-499.828510</td>\n",
       "      <td>24.994862</td>\n",
       "      <td>-500.622559</td>\n",
       "    </tr>\n",
       "    <tr>\n",
       "      <th>3</th>\n",
       "      <td>2016-09-01 03:59:59</td>\n",
       "      <td>215.336236</td>\n",
       "      <td>12.006805</td>\n",
       "      <td>7.640000</td>\n",
       "      <td>0.863514</td>\n",
       "      <td>1399.618111</td>\n",
       "      <td>-498.863574</td>\n",
       "      <td>1397.440120</td>\n",
       "      <td>-499.211024</td>\n",
       "      <td>1400.129303</td>\n",
       "      <td>...</td>\n",
       "      <td>12.033091</td>\n",
       "      <td>-498.350935</td>\n",
       "      <td>8.074946</td>\n",
       "      <td>-499.474407</td>\n",
       "      <td>7.897085</td>\n",
       "      <td>-500.868509</td>\n",
       "      <td>4.931400</td>\n",
       "      <td>-499.963623</td>\n",
       "      <td>24.948919</td>\n",
       "      <td>-498.709987</td>\n",
       "    </tr>\n",
       "    <tr>\n",
       "      <th>4</th>\n",
       "      <td>2016-09-01 04:59:59</td>\n",
       "      <td>199.099327</td>\n",
       "      <td>10.682530</td>\n",
       "      <td>7.530000</td>\n",
       "      <td>0.805575</td>\n",
       "      <td>1401.268123</td>\n",
       "      <td>-500.808305</td>\n",
       "      <td>1398.128818</td>\n",
       "      <td>-499.504543</td>\n",
       "      <td>1402.172226</td>\n",
       "      <td>...</td>\n",
       "      <td>12.025367</td>\n",
       "      <td>-500.786497</td>\n",
       "      <td>8.054678</td>\n",
       "      <td>-500.397500</td>\n",
       "      <td>8.107890</td>\n",
       "      <td>-509.526725</td>\n",
       "      <td>4.957674</td>\n",
       "      <td>-500.360026</td>\n",
       "      <td>25.003331</td>\n",
       "      <td>-500.856333</td>\n",
       "    </tr>\n",
       "  </tbody>\n",
       "</table>\n",
       "<p>5 rows × 53 columns</p>\n",
       "</div>"
      ],
      "text/plain": [
       "                  date  primary_cleaner.input.sulfate  \\\n",
       "0  2016-09-01 00:59:59                     210.800909   \n",
       "1  2016-09-01 01:59:59                     215.392455   \n",
       "2  2016-09-01 02:59:59                     215.259946   \n",
       "3  2016-09-01 03:59:59                     215.336236   \n",
       "4  2016-09-01 04:59:59                     199.099327   \n",
       "\n",
       "   primary_cleaner.input.depressant  primary_cleaner.input.feed_size  \\\n",
       "0                         14.993118                         8.080000   \n",
       "1                         14.987471                         8.080000   \n",
       "2                         12.884934                         7.786667   \n",
       "3                         12.006805                         7.640000   \n",
       "4                         10.682530                         7.530000   \n",
       "\n",
       "   primary_cleaner.input.xanthate  primary_cleaner.state.floatbank8_a_air  \\\n",
       "0                        1.005021                             1398.981301   \n",
       "1                        0.990469                             1398.777912   \n",
       "2                        0.996043                             1398.493666   \n",
       "3                        0.863514                             1399.618111   \n",
       "4                        0.805575                             1401.268123   \n",
       "\n",
       "   primary_cleaner.state.floatbank8_a_level  \\\n",
       "0                               -500.225577   \n",
       "1                               -500.057435   \n",
       "2                               -500.868360   \n",
       "3                               -498.863574   \n",
       "4                               -500.808305   \n",
       "\n",
       "   primary_cleaner.state.floatbank8_b_air  \\\n",
       "0                             1399.144926   \n",
       "1                             1398.055362   \n",
       "2                             1398.860436   \n",
       "3                             1397.440120   \n",
       "4                             1398.128818   \n",
       "\n",
       "   primary_cleaner.state.floatbank8_b_level  \\\n",
       "0                               -499.919735   \n",
       "1                               -499.778182   \n",
       "2                               -499.764529   \n",
       "3                               -499.211024   \n",
       "4                               -499.504543   \n",
       "\n",
       "   primary_cleaner.state.floatbank8_c_air  ...  \\\n",
       "0                             1400.102998  ...   \n",
       "1                             1396.151033  ...   \n",
       "2                             1398.075709  ...   \n",
       "3                             1400.129303  ...   \n",
       "4                             1402.172226  ...   \n",
       "\n",
       "   secondary_cleaner.state.floatbank4_a_air  \\\n",
       "0                                 12.023554   \n",
       "1                                 12.058140   \n",
       "2                                 11.962366   \n",
       "3                                 12.033091   \n",
       "4                                 12.025367   \n",
       "\n",
       "   secondary_cleaner.state.floatbank4_a_level  \\\n",
       "0                                 -497.795834   \n",
       "1                                 -498.695773   \n",
       "2                                 -498.767484   \n",
       "3                                 -498.350935   \n",
       "4                                 -500.786497   \n",
       "\n",
       "   secondary_cleaner.state.floatbank4_b_air  \\\n",
       "0                                  8.016656   \n",
       "1                                  8.130979   \n",
       "2                                  8.096893   \n",
       "3                                  8.074946   \n",
       "4                                  8.054678   \n",
       "\n",
       "   secondary_cleaner.state.floatbank4_b_level  \\\n",
       "0                                 -501.289139   \n",
       "1                                 -499.634209   \n",
       "2                                 -500.827423   \n",
       "3                                 -499.474407   \n",
       "4                                 -500.397500   \n",
       "\n",
       "   secondary_cleaner.state.floatbank5_a_air  \\\n",
       "0                                  7.946562   \n",
       "1                                  7.958270   \n",
       "2                                  8.071056   \n",
       "3                                  7.897085   \n",
       "4                                  8.107890   \n",
       "\n",
       "   secondary_cleaner.state.floatbank5_a_level  \\\n",
       "0                                 -432.317850   \n",
       "1                                 -525.839648   \n",
       "2                                 -500.801673   \n",
       "3                                 -500.868509   \n",
       "4                                 -509.526725   \n",
       "\n",
       "   secondary_cleaner.state.floatbank5_b_air  \\\n",
       "0                                  4.872511   \n",
       "1                                  4.878850   \n",
       "2                                  4.905125   \n",
       "3                                  4.931400   \n",
       "4                                  4.957674   \n",
       "\n",
       "   secondary_cleaner.state.floatbank5_b_level  \\\n",
       "0                                 -500.037437   \n",
       "1                                 -500.162375   \n",
       "2                                 -499.828510   \n",
       "3                                 -499.963623   \n",
       "4                                 -500.360026   \n",
       "\n",
       "   secondary_cleaner.state.floatbank6_a_air  \\\n",
       "0                                 26.705889   \n",
       "1                                 25.019940   \n",
       "2                                 24.994862   \n",
       "3                                 24.948919   \n",
       "4                                 25.003331   \n",
       "\n",
       "   secondary_cleaner.state.floatbank6_a_level  \n",
       "0                                 -499.709414  \n",
       "1                                 -499.819438  \n",
       "2                                 -500.622559  \n",
       "3                                 -498.709987  \n",
       "4                                 -500.856333  \n",
       "\n",
       "[5 rows x 53 columns]"
      ]
     },
     "execution_count": 8,
     "metadata": {},
     "output_type": "execute_result"
    }
   ],
   "source": [
    "gold_recovery_test = pd.read_csv('gold_recovery_test.csv')\n",
    "gold_recovery_test.head()\n",
    "#gold_recovery_test.info()\n",
    "#gold_recovery_test.shape[0] * 100 / gold_recovery_full.shape[0]"
   ]
  },
  {
   "cell_type": "markdown",
   "metadata": {},
   "source": [
    "For some reason, there are missing features in this table including the targets, which is strange as long as we have the full data. We are going to examine this issue closer in the relevant subsection."
   ]
  },
  {
   "cell_type": "code",
   "execution_count": 9,
   "metadata": {},
   "outputs": [
    {
     "data": {
      "text/plain": [
       "rougher.input.floatbank11_xanthate    353\n",
       "primary_cleaner.input.sulfate         302\n",
       "primary_cleaner.input.depressant      284\n",
       "rougher.input.floatbank10_sulfate     257\n",
       "primary_cleaner.input.xanthate        166\n",
       "dtype: int64"
      ]
     },
     "execution_count": 9,
     "metadata": {},
     "output_type": "execute_result"
    }
   ],
   "source": [
    "check_null(gold_recovery_test).sort_values(ascending = False).head()"
   ]
  },
  {
   "cell_type": "markdown",
   "metadata": {},
   "source": [
    "Judging by the values, none types are distributed pretty much like in the training and full data. Since this table is the smallest of the three, they are counted in hundreds."
   ]
  },
  {
   "cell_type": "markdown",
   "metadata": {},
   "source": [
    "## B. Calculations check"
   ]
  },
  {
   "cell_type": "markdown",
   "metadata": {},
   "source": [
    "Let us check the validity of recovery calculations for the 'rougher.output.recovery' from the training set and try to do the same for the 'final.output.recovery'. The formula of this indicator is given in the project description and wrapped in the code below with relevant comments."
   ]
  },
  {
   "cell_type": "code",
   "execution_count": 10,
   "metadata": {},
   "outputs": [],
   "source": [
    "# c - share of gold in сoncentrate after processing.\n",
    "# f - share of gold in сoncentrate/feed before processing.\n",
    "# t - share of gold in tailings.\n",
    "\n",
    "#Floatation variables.\n",
    "c_float_train = gold_recovery_train['rougher.output.concentrate_au']\n",
    "t_float_train = gold_recovery_train['rougher.output.tail_au']\n",
    "f_float_train = gold_recovery_train['rougher.input.feed_au']\n",
    "\n",
    "#Last unit variables (secondary cleaner).\n",
    "c_final_train = gold_recovery_train['final.output.concentrate_au']\n",
    "t_final_train = gold_recovery_train['final.output.tail_au']\n",
    "f_final_train = gold_recovery_train['primary_cleaner.output.concentrate_au'] \n",
    "\n",
    "def calculate_recovery(c, t, f):\n",
    "    recovery = (c * (f - t)) * 100 / (f * (c - t))\n",
    "    return recovery"
   ]
  },
  {
   "cell_type": "markdown",
   "metadata": {},
   "source": [
    "Now calculate mean absolute error of 'rougher.output.recovery' given in the data and formula output on the train sample."
   ]
  },
  {
   "cell_type": "code",
   "execution_count": 11,
   "metadata": {},
   "outputs": [
    {
     "name": "stdout",
     "output_type": "stream",
     "text": [
      "Mean absolute error of computations by formula and given values: 1.0898633667227423e-14\n"
     ]
    }
   ],
   "source": [
    "float_recovery_train = calculate_recovery(c_float_train, t_float_train, f_float_train)\n",
    "\n",
    "float_recovery_mae = ((float_recovery_train - gold_recovery_train['rougher.output.recovery'])\n",
    "                      .abs().mean())\n",
    "print(f'Mean absolute error of computations by formula and given values: {float_recovery_mae}')"
   ]
  },
  {
   "cell_type": "markdown",
   "metadata": {},
   "source": [
    "MAE practically equals zero, which indicates no inconsistency in the data. It is then possible to restore some part of missing values using this formula later. Now repeat the procedure for the cleaners efficiency."
   ]
  },
  {
   "cell_type": "code",
   "execution_count": 12,
   "metadata": {},
   "outputs": [
    {
     "name": "stdout",
     "output_type": "stream",
     "text": [
      "Mean absolute error of computations by formula and given values: inf\n"
     ]
    }
   ],
   "source": [
    "final_recovery_train = (calculate_recovery(c_final_train, t_final_train, f_final_train))\n",
    "final_recovery_mae = ((final_recovery_train - gold_recovery_train['final.output.recovery'])\n",
    "                     .abs().mean())\n",
    "print(f'Mean absolute error of computations by formula and given values: {final_recovery_mae}')\n",
    "#final_recovery - gold_recovery_train['final.output.recovery']"
   ]
  },
  {
   "cell_type": "markdown",
   "metadata": {},
   "source": [
    "Apparently, division by zero occured in some of the terms causing the total sum to approach infinity. Most likely, f-ith equaled zero. Whatever the reason is the calculations are false as a systematic constant-looking error is in place (print the commented line). Besides, the technological process description given by the company seems to be somewhat insufficient. This derives from the fact that the dataset contains 4 types of tailings (floatation, primary, secondary, and final) while only 3 were initially described (the final one is omitted). Inserting other tailing type values into the formula does not change the result. This problem must be mentioned in the final report and for the time being we assume that all the calculations have been done correctly.. Clearly nan-replacement with a formula is impossible here."
   ]
  },
  {
   "cell_type": "markdown",
   "metadata": {},
   "source": [
    "## C. Examination of unavailable features"
   ]
  },
  {
   "cell_type": "markdown",
   "metadata": {},
   "source": [
    "Let us now study which columns are missing in the test sample. Use the logical indexing to locate the column names in question and assign a new variable."
   ]
  },
  {
   "cell_type": "code",
   "execution_count": 13,
   "metadata": {},
   "outputs": [
    {
     "data": {
      "text/plain": [
       "Index(['final.output.concentrate_ag', 'final.output.concentrate_pb',\n",
       "       'final.output.concentrate_sol', 'final.output.concentrate_au',\n",
       "       'final.output.recovery', 'final.output.tail_ag', 'final.output.tail_pb',\n",
       "       'final.output.tail_sol', 'final.output.tail_au',\n",
       "       'primary_cleaner.output.concentrate_ag',\n",
       "       'primary_cleaner.output.concentrate_pb',\n",
       "       'primary_cleaner.output.concentrate_sol',\n",
       "       'primary_cleaner.output.concentrate_au',\n",
       "       'primary_cleaner.output.tail_ag', 'primary_cleaner.output.tail_pb',\n",
       "       'primary_cleaner.output.tail_sol', 'primary_cleaner.output.tail_au',\n",
       "       'rougher.calculation.sulfate_to_au_concentrate',\n",
       "       'rougher.calculation.floatbank10_sulfate_to_au_feed',\n",
       "       'rougher.calculation.floatbank11_sulfate_to_au_feed',\n",
       "       'rougher.calculation.au_pb_ratio', 'rougher.output.concentrate_ag',\n",
       "       'rougher.output.concentrate_pb', 'rougher.output.concentrate_sol',\n",
       "       'rougher.output.concentrate_au', 'rougher.output.recovery',\n",
       "       'rougher.output.tail_ag', 'rougher.output.tail_pb',\n",
       "       'rougher.output.tail_sol', 'rougher.output.tail_au',\n",
       "       'secondary_cleaner.output.tail_ag', 'secondary_cleaner.output.tail_pb',\n",
       "       'secondary_cleaner.output.tail_sol',\n",
       "       'secondary_cleaner.output.tail_au'],\n",
       "      dtype='object')"
      ]
     },
     "execution_count": 13,
     "metadata": {},
     "output_type": "execute_result"
    }
   ],
   "source": [
    "missing_cols = (gold_recovery_full.columns[~gold_recovery_full\n",
    "                                           .columns.isin(gold_recovery_test.columns)])\n",
    "missing_cols"
   ]
  },
  {
   "cell_type": "markdown",
   "metadata": {},
   "source": [
    "The testing sample, as seen from the output, predominantly lacks unit output characteristics such as concentration of metals after the flotation, primary and secondary cleaning, as well as their proportion in the tailings at the same stages. Another important notion here is that the test sample does not contain target features. However, since the full dataset is at our disposal we can easily bring them back."
   ]
  },
  {
   "cell_type": "markdown",
   "metadata": {},
   "source": [
    "## D. Data pre-processing"
   ]
  },
  {
   "cell_type": "markdown",
   "metadata": {},
   "source": [
    "Let us now finally solve the problems with the data identified earlier. First, retrieve missing features from the full data and add them to the test set. But how to do that if all the indexes were reset right after the training-testing-split? The only way is to use the date column as a new index where all entries are non-null objects. Check if it is a suitable index."
   ]
  },
  {
   "cell_type": "code",
   "execution_count": 14,
   "metadata": {},
   "outputs": [
    {
     "data": {
      "text/plain": [
       "True"
      ]
     },
     "execution_count": 14,
     "metadata": {},
     "output_type": "execute_result"
    }
   ],
   "source": [
    "#len(gold_recovery_full['date'].value_counts().sort_index().index) == len(gold_recovery_full)\n",
    "len(gold_recovery_test['date'].value_counts().sort_index().index) == len(gold_recovery_test)"
   ]
  },
  {
   "cell_type": "markdown",
   "metadata": {},
   "source": [
    "The number of unique date values both in the test and full datasets equals to their respective number of rows, so the date is suitable as a new index. But what if the intersection of dates in the full data frame and the test one is not equal to the length of the latter?"
   ]
  },
  {
   "cell_type": "code",
   "execution_count": 15,
   "metadata": {},
   "outputs": [
    {
     "data": {
      "text/plain": [
       "True"
      ]
     },
     "execution_count": 15,
     "metadata": {},
     "output_type": "execute_result"
    }
   ],
   "source": [
    "timestamp = (gold_recovery_full['date'].value_counts().sort_index().index\n",
    "             [gold_recovery_full['date'].value_counts().sort_index().index\n",
    "              .isin(gold_recovery_test['date'].value_counts().sort_index().index)])\n",
    "len(timestamp) == len(gold_recovery_test)"
   ]
  },
  {
   "cell_type": "markdown",
   "metadata": {},
   "source": [
    "Similarly to the way the missing columns were previously found, an array of dates that are specified in both datasets has been received. Its length equals the testing sample length, which means that all the data can be correctly sorted. We now replace the existing numerical index in the full dataframe with dates and perform slicing of objects corresponding to unspecified testing features."
   ]
  },
  {
   "cell_type": "code",
   "execution_count": 16,
   "metadata": {},
   "outputs": [
    {
     "data": {
      "text/plain": [
       "(5856, 34)"
      ]
     },
     "execution_count": 16,
     "metadata": {},
     "output_type": "execute_result"
    }
   ],
   "source": [
    "missing_data = (gold_recovery_full\n",
    "                .set_index(gold_recovery_full['date'])[missing_cols]\n",
    "                .loc[timestamp])\n",
    "missing_data.shape"
   ]
  },
  {
   "cell_type": "markdown",
   "metadata": {},
   "source": [
    "Done. Now set the time index to the test data so that concatenation with the resulting dataframe (above) passes correctly. We will do the same for the training sample, which still has a numerical index."
   ]
  },
  {
   "cell_type": "code",
   "execution_count": 17,
   "metadata": {},
   "outputs": [],
   "source": [
    "# Reindexing of the test set.\n",
    "gold_recovery_test = (gold_recovery_test\n",
    "                      .set_index(gold_recovery_test['date'])\n",
    "                      .drop(['date'], axis = 1))"
   ]
  },
  {
   "cell_type": "code",
   "execution_count": 18,
   "metadata": {},
   "outputs": [],
   "source": [
    "# Reindexing of the train set.\n",
    "gold_recovery_train = (gold_recovery_train\n",
    "                       .set_index(gold_recovery_train['date'])\n",
    "                       .drop(['date'], axis = 1))"
   ]
  },
  {
   "cell_type": "code",
   "execution_count": 19,
   "metadata": {},
   "outputs": [],
   "source": [
    "# Concatenation of the test set and missing feautures.\n",
    "gold_recovery_test = pd.concat([gold_recovery_test, missing_data], axis = 1)"
   ]
  },
  {
   "cell_type": "code",
   "execution_count": 20,
   "metadata": {},
   "outputs": [
    {
     "data": {
      "text/plain": [
       "(5856, 86)"
      ]
     },
     "execution_count": 20,
     "metadata": {},
     "output_type": "execute_result"
    }
   ],
   "source": [
    "# Shape check.\n",
    "gold_recovery_test.shape # Minus one column (date)."
   ]
  },
  {
   "cell_type": "markdown",
   "metadata": {},
   "source": [
    "All the missing columns have been restored from the original full dataframe. As soon as they were just added to the table on the right we may now rearrange them alphabetically (original order)."
   ]
  },
  {
   "cell_type": "code",
   "execution_count": 21,
   "metadata": {},
   "outputs": [],
   "source": [
    "gold_recovery_test = gold_recovery_test.reindex(sorted(gold_recovery_test.columns), axis = 1)"
   ]
  },
  {
   "cell_type": "markdown",
   "metadata": {},
   "source": [
    "The final task in this section is to eliminate previously identified none types. There are four ways to do it. First, request a more complete dataset from the customer. Second, calculate, where possible, the replacement using other variables. Third, offer some artificial replacement. Fourth, just drop them all. We assume the first method is not available. The second method requires both theoretical engineering knowledge and a deep understanding of the technology that is used in this company. According to the additional information provided, it is only possible to calculate the target feature and only for the flotation output, therefore, this method can be partially resorted to. An artificial replacement could help out a lot. It is possible, for example, to find a proper theoretical distribution of features with gaps, and randomly extract replacement values from it. This can be performed correctly only provided that all the variables are independent, however, we are dealing with a process which means there is an interdependency. Then the joint distributions and conditional probabilities might come in handy, but, again, it is not the best option for the same reason the second approach is not - engineering knowledge is required. Ultimately, the most sensible and simplest way is to drop all the gaps. The remaining objects will be quite enough for training a future model, although around a third of them would be dropped. Let us first start with calculating the replacement for the target feature in the test and training sets."
   ]
  },
  {
   "cell_type": "code",
   "execution_count": 22,
   "metadata": {},
   "outputs": [
    {
     "name": "stdout",
     "output_type": "stream",
     "text": [
      "Gaps in calculations: 2283\n",
      "Gaps in data: 2573\n"
     ]
    }
   ],
   "source": [
    "print(f'Gaps in calculations: {float_recovery_train.isna().sum()}')\n",
    "print(f'Gaps in data: {gold_recovery_train[\"rougher.output.recovery\"].isna().sum()}')"
   ]
  },
  {
   "cell_type": "markdown",
   "metadata": {},
   "source": [
    "Recovery efficiency calculated using a formula has a bit less nans than in the existing array. Add the column with formula results to the sample and get the necessary index (nans in the data AND formula values)."
   ]
  },
  {
   "cell_type": "code",
   "execution_count": 23,
   "metadata": {},
   "outputs": [],
   "source": [
    "# Calculations have an old numeric index. A quick fixing. \n",
    "float_recovery_train = (float_recovery_train.reset_index()\n",
    "                        .set_index(gold_recovery_train.index).drop(['index'], axis = 1))"
   ]
  },
  {
   "cell_type": "code",
   "execution_count": 24,
   "metadata": {},
   "outputs": [
    {
     "name": "stdout",
     "output_type": "stream",
     "text": [
      "Gaps after replacement: 2283\n"
     ]
    }
   ],
   "source": [
    "# Temporary column for slicing.\n",
    "gold_recovery_train['rougher.output.recovery.calc'] = float_recovery_train\n",
    "\n",
    "\n",
    "# Slicing and saving the index by which the replacement is going to be done.\n",
    "repl_idx_flt_trn = (\n",
    "    gold_recovery_train[gold_recovery_train['rougher.output.recovery'].isna() & \n",
    "                        gold_recovery_train['rougher.output.recovery.calc'].notnull()].index)\n",
    "\n",
    "# Replace and check.\n",
    "gold_recovery_train.loc[repl_idx_flt_trn, 'rougher.output.recovery'] = (\n",
    "    gold_recovery_train.loc[repl_idx_flt_trn, 'rougher.output.recovery.calc']\n",
    ")\n",
    "print(f'Gaps after replacement: {gold_recovery_train[\"rougher.output.recovery\"].isna().sum()}')"
   ]
  },
  {
   "cell_type": "markdown",
   "metadata": {},
   "source": [
    "In fact, it was possible to simply replace the available data with calculations right away and get the same number of none types, but undesirable intersections might have occured. A similar procedure for the test sample:"
   ]
  },
  {
   "cell_type": "code",
   "execution_count": 25,
   "metadata": {},
   "outputs": [
    {
     "name": "stdout",
     "output_type": "stream",
     "text": [
      "Gaps in calculations: 493\n",
      "Gaps in data: 546\n"
     ]
    }
   ],
   "source": [
    "# Recovery has not been calculated before on the testing set:\n",
    "c_float_test = gold_recovery_test['rougher.output.concentrate_au']\n",
    "t_float_test = gold_recovery_test['rougher.output.tail_au']\n",
    "f_float_test = gold_recovery_test['rougher.input.feed_au']\n",
    "\n",
    "gold_recovery_test['rougher.output.recovery.calc'] = (\n",
    "    calculate_recovery(c_float_test, t_float_test, f_float_test))\n",
    "\n",
    "# Check.\n",
    "print(f'Gaps in calculations: {gold_recovery_test[\"rougher.output.recovery.calc\"].isna().sum()}')\n",
    "print(f'Gaps in data: {gold_recovery_test[\"rougher.output.recovery\"].isna().sum()}')"
   ]
  },
  {
   "cell_type": "code",
   "execution_count": 26,
   "metadata": {},
   "outputs": [
    {
     "name": "stdout",
     "output_type": "stream",
     "text": [
      "Gaps after replacement: 493\n"
     ]
    }
   ],
   "source": [
    "# Same as before for the training data.\n",
    "repl_idx_flt_tst = (\n",
    "    gold_recovery_test[gold_recovery_test['rougher.output.recovery'].isna() & \n",
    "                        gold_recovery_test['rougher.output.recovery.calc'].notnull()].index)\n",
    "\n",
    "gold_recovery_test.loc[repl_idx_flt_tst, 'rougher.output.recovery'] = (\n",
    "    gold_recovery_test.loc[repl_idx_flt_tst, 'rougher.output.recovery.calc']\n",
    ")\n",
    "print(f'Gaps after replacement: {gold_recovery_test[\"rougher.output.recovery\"].isna().sum()}')"
   ]
  },
  {
   "cell_type": "markdown",
   "metadata": {},
   "source": [
    "All possible replacements have been completed. 290 blanks are gone from the training dataset and 53 from the test one. Final step is to drop all other nans and temporary columns."
   ]
  },
  {
   "cell_type": "code",
   "execution_count": 27,
   "metadata": {},
   "outputs": [],
   "source": [
    "gold_recovery_train.drop(['rougher.output.recovery.calc'], axis = 1, inplace = True)\n",
    "gold_recovery_test.drop(['rougher.output.recovery.calc'], axis = 1, inplace = True)"
   ]
  },
  {
   "cell_type": "code",
   "execution_count": 28,
   "metadata": {},
   "outputs": [],
   "source": [
    "gold_recovery_train.dropna(inplace = True)\n",
    "gold_recovery_test.dropna(inplace = True)"
   ]
  },
  {
   "cell_type": "code",
   "execution_count": 29,
   "metadata": {},
   "outputs": [
    {
     "name": "stdout",
     "output_type": "stream",
     "text": [
      "(11163, 86)\n",
      "(5101, 86)\n"
     ]
    }
   ],
   "source": [
    "print(gold_recovery_train.shape)\n",
    "print(gold_recovery_test.shape)"
   ]
  },
  {
   "cell_type": "markdown",
   "metadata": {},
   "source": [
    "Although the data suffered a noticeable loss, it is now ready for further research."
   ]
  },
  {
   "cell_type": "markdown",
   "metadata": {},
   "source": [
    "## Conclusion\n",
    "__________________\n",
    "In this section, we familiarized ourselves with the available datasets. Two major problems have been identified: the missing values in features and the incompleteness of the test sample. The first problem is solved by a simple nan drop, since other methods did not seem to be appropriate or justified in this project. This led to a significant loss of data (about a third of the objects), but the remaining observations are sufficient for training models. The second problem related to the lack of columns in the test sample needed for the study is solved by restoring features from the full dataset. It was concluded that the incorrect separation of the data into the training and test samples was caused not by a delay in obtaining results, but by something else, most likely, a mere technical error. In addition, the target feature calculations ('rougher.output.recovery' and 'final.output.recovery') have been checked. As far as the first one is concerned, no errors have been identified, which helped to restore a total of 343 empty entries. As for the second target, it could not be checked using the existing formula, thus, further details must be obtained from the company. Also, the fourth column with tailings (at the final stage) has been discovered, which, in accordance with the initial description of the technology, remains unexplained. Probably, the reason of its presence would clarify the calculation procedure for the 'final.output.recovery'."
   ]
  },
  {
   "cell_type": "markdown",
   "metadata": {},
   "source": [
    "# 2. EXPLORATORY DATA ANALYSIS\n",
    "_______________________\n",
    "This section is devoted to exploratory data analysis and discusses the dynamics of metal concentrations throughout the recovery process.The distributions of raw material granules are compared. The total content of all substances at different stages is studied for anomalies."
   ]
  },
  {
   "cell_type": "markdown",
   "metadata": {},
   "source": [
    "## A. Metal Concentrations"
   ]
  },
  {
   "cell_type": "markdown",
   "metadata": {},
   "source": [
    "A grouped bar chart is seen as a good choice for visualizing changes in metal concentrations. The process stages are going to be groups. In each group, bars represent the average concentrations of 3 metals: gold, silver and lead. The chart is to be printed for both datasets - training and test. For the purposes of plotting convenience, some preparation is required. Select the necessary indicators and calculate the average by the columns."
   ]
  },
  {
   "cell_type": "code",
   "execution_count": 30,
   "metadata": {},
   "outputs": [],
   "source": [
    "indicators = [\n",
    "'rougher.output.concentrate_pb', 'rougher.output.concentrate_ag',\n",
    "'rougher.output.concentrate_au', 'primary_cleaner.output.concentrate_pb',\n",
    "'primary_cleaner.output.concentrate_ag', 'primary_cleaner.output.concentrate_au',\n",
    "'final.output.concentrate_pb', 'final.output.concentrate_ag', 'final.output.concentrate_au', \n",
    "]\n",
    "\n",
    "stages = ['Floatation', 'Primary', 'Secondary']\n",
    "metals = ['Lead', 'Silver', 'Gold']\n",
    "metal_dict = dict(zip([str(i) for i in range(len(metals) + 1)], metals))\n",
    "\n",
    "con_data_train = gold_recovery_train[indicators].mean(axis = 0)\n",
    "con_data_test = gold_recovery_test[indicators].mean(axis = 0)"
   ]
  },
  {
   "cell_type": "markdown",
   "metadata": {},
   "source": [
    "In the cell above, all the necessary information is saved in lists and a dictionary to facilitate referencing while plotting. The last two lines calculate the means by all columns from the first list. Next, prepare a multi-index for these means and join 2 series objects."
   ]
  },
  {
   "cell_type": "code",
   "execution_count": 31,
   "metadata": {},
   "outputs": [],
   "source": [
    "multidx = pd.MultiIndex.from_product([stages, metals], names = ['Stage', 'Metal'])"
   ]
  },
  {
   "cell_type": "code",
   "execution_count": 32,
   "metadata": {},
   "outputs": [
    {
     "data": {
      "text/plain": [
       "Stage       Metal \n",
       "Floatation  Lead       7.532421\n",
       "            Silver    11.717793\n",
       "            Gold      19.564896\n",
       "Primary     Lead       9.568583\n",
       "            Silver     8.435391\n",
       "            Gold      32.316159\n",
       "Secondary   Lead      10.163855\n",
       "            Silver     5.155674\n",
       "            Gold      44.115810\n",
       "dtype: float64"
      ]
     },
     "execution_count": 32,
     "metadata": {},
     "output_type": "execute_result"
    }
   ],
   "source": [
    "bar_chart_data_train = pd.Series(data = con_data_train.values, index = multidx)\n",
    "bar_chart_data_test = pd.Series(data = con_data_test.values, index = multidx)\n",
    "bar_chart_data_train\n",
    "#bar_chart_data_test"
   ]
  },
  {
   "cell_type": "markdown",
   "metadata": {},
   "source": [
    "This is how one-dimensional arrays with average metal concentrations per stage look like as a multi-indexed series. Now, plot the charts."
   ]
  },
  {
   "cell_type": "code",
   "execution_count": 33,
   "metadata": {},
   "outputs": [
    {
     "data": {
      "image/png": "[encoded data removed]",
      "text/plain": [
       "<Figure size 1080x360 with 2 Axes>"
      ]
     },
     "metadata": {
      "needs_background": "light"
     },
     "output_type": "display_data"
    }
   ],
   "source": [
    "x = np.arange(len(stages))\n",
    "width = 0.25\n",
    "\n",
    "fig, (ax1, ax2) = plt.subplots(ncols = 2, figsize = (15, 5), sharey = True)\n",
    "\n",
    "for k in range(len(stages)):\n",
    "    rects_train = (ax1.bar(x + width * int(np.ceil((k / 2) * (-1) ** ((k + 1)))),\n",
    "                           bar_chart_data_train.xs(metal_dict[str(k)], level = 1),\n",
    "                           width, label = metal_dict[str(k)]))\n",
    "for l in range(len(stages)):\n",
    "    rects_test = (ax2.bar(x + width * int(np.ceil((l / 2) * (-1) ** ((l + 1)))),\n",
    "                          bar_chart_data_test.xs(metal_dict[str(l)], level = 1),\n",
    "                          width, label = metal_dict[str(l)]))\n",
    "\n",
    "ax1.set_ylabel('Average Metal Concentrations by Stage')\n",
    "ax1.set_title('Change in Average Metal\\n Concentrations by stage (training)')\n",
    "ax1.set_xticks(x)\n",
    "ax1.set_xticklabels(stages)\n",
    "ax1.grid()\n",
    "ax1.legend();\n",
    "\n",
    "ax2.set_title('Change in Average Metal\\n Concentrations by stage (testing)')\n",
    "ax2.set_xticks(x)\n",
    "ax2.set_xticklabels(stages)\n",
    "ax2.grid()\n",
    "ax2.legend();"
   ]
  },
  {
   "cell_type": "markdown",
   "metadata": {},
   "source": [
    "Since the units of parameters have not been provided, we consider concentration values to be arbitrary units, although, judging by the numbers, they are indicated as a percentage of the product. Since the product contains components other than metals, the sum of these values does not add up to 100%."
   ]
  },
  {
   "cell_type": "markdown",
   "metadata": {},
   "source": [
    "## B. Raw Material Grain Size"
   ]
  },
  {
   "cell_type": "markdown",
   "metadata": {},
   "source": [
    "Now study the grain size distribution in the feed. If the distribution in the test sample differs markedly from its training set counterpart, the model will not be able to effectively predict the target features. Let us use histograms for the illustration. Since these graphs are plotted once during the study, the DRY principle is going to be violated on this occasion."
   ]
  },
  {
   "cell_type": "code",
   "execution_count": 34,
   "metadata": {},
   "outputs": [
    {
     "data": {
      "image/png": "[encoded data removed]",
      "text/plain": [
       "<Figure size 1440x1440 with 4 Axes>"
      ]
     },
     "metadata": {
      "needs_background": "light"
     },
     "output_type": "display_data"
    }
   ],
   "source": [
    "fig, axs = plt.subplots(nrows = 2, ncols = 2, figsize = (20, 20))\n",
    "\n",
    "x1 = gold_recovery_train['rougher.input.feed_size'] \n",
    "x2 = gold_recovery_train['primary_cleaner.input.feed_size']\n",
    "x3 = gold_recovery_test['rougher.input.feed_size']\n",
    "x4 = gold_recovery_test['primary_cleaner.input.feed_size']\n",
    "\n",
    "axs[0, 0].hist(x1, bins = 100, color = 'g');\n",
    "axs[0, 0].grid()\n",
    "axs[0, 0].set_title('Grain Size Distribution in the Feed\\n before floatation (training)')\n",
    "axs[0, 0].set_xlabel('Grain Size')\n",
    "axs[0, 0].set_ylabel('Frequency')\n",
    "axs[0, 0].set_xlim(20, 125); # Comment this line to see outliers.\n",
    "\n",
    "axs[0, 1].hist(x2, bins = 100, color = 'g');\n",
    "axs[0, 1].grid()\n",
    "axs[0, 1].set_title('Grain Size Distribution in the Feed\\n before cleaning (training)')\n",
    "axs[0, 1].set_xlabel('Grain Size')\n",
    "axs[0, 1].set_ylabel('Frequency')\n",
    "axs[0, 1].set_xlim(5, 10); # Comment this line to see outliers.\n",
    "\n",
    "axs[1, 0].hist(x3, bins = 50, color = 'r');\n",
    "axs[1, 0].grid()\n",
    "axs[1, 0].set_title('Grain Size Distribution in the Feed\\n before floatation (testing)')\n",
    "axs[1, 0].set_xlabel('Grain Size')\n",
    "axs[1, 0].set_ylabel('Frequency')\n",
    "axs[1, 0].set_xlim(20, 125); # Comment this line to see outliers.\n",
    "\n",
    "axs[1, 1].hist(x4, bins = 50, color = 'r');\n",
    "axs[1, 1].grid()\n",
    "axs[1, 1].set_title('Grain Size Distribution in the Feed\\n before cleaning (testin)')\n",
    "axs[1, 1].set_xlabel('Grain Size')\n",
    "axs[1, 1].set_ylabel('Frequency')\n",
    "axs[1, 1].set_xlim(5, 10); # Comment this line to see outliers."
   ]
  },
  {
   "cell_type": "markdown",
   "metadata": {},
   "source": [
    "It should be noted that there are only 2 features representing the feed size: before the flotation unit and the primary cleaner. Probably, intermediate measurements are complicated during the cleaning process, therefore, primary and secondary cleanings are considered a single unit. With this assumption in mind, the histogram titles on the right hand side do not indicate a distinction. Again, as before, we consider the size to be in arbitrary units. Most likely, it is the maximum measurement of a granule in mm., for instance. It is a conventional approach of measuring, say, garbage coming to a wastewater treatment plant.\n",
    "\n",
    "The first row of the histograms (green) corresponds to the feed size distributions within the training sample at the flotaton and cleaning stages, while the second (red) illustrates the same on the test data. Such an arrangement shows that the distribution shapes across samples are more or less identical. Natural (due to the sample size) distortions can be detected, for example, in the lower left histogram.\n",
    "\n",
    "On average, the grain size before the flotation is about 40 - 60, and changes to 7 - 8 afterwards. The flotator significantly homogenizes the incoming ore with subsequent serious reduction in variance. Also, each feature has outlier values, which should removed in order to train models effectively. These outliers could be seen in all the lines ax[\\*].set_xlim(\\*) are commented out. Limitations are set visually. Besides outliers, there are also zero values. They are especially noticeable in the test sample (for flotation). Zeros mean nothing came into the flotator, and then nothing should have come out. Even medieval alchemists needed something to get gold from. The same applies to primary cleaning. Zeros, thus, must be eliminated. Now let us look at how many objects the datasets would lose if the outliers and zeros defined in this way are dropped."
   ]
  },
  {
   "cell_type": "code",
   "execution_count": 35,
   "metadata": {},
   "outputs": [
    {
     "name": "stdout",
     "output_type": "stream",
     "text": [
      "Loss in the training set: 82\n",
      "Loss in the testing set: 25\n"
     ]
    }
   ],
   "source": [
    "recovery_train = (gold_recovery_train[\n",
    "    (gold_recovery_train['rougher.input.feed_size'] > 20) &\n",
    "    (gold_recovery_train['rougher.input.feed_size'] <= 125) &\n",
    "    (gold_recovery_train['primary_cleaner.input.feed_size'] > 5) &\n",
    "    (gold_recovery_train['primary_cleaner.input.feed_size'] <= 10)\n",
    "])\n",
    "\n",
    "recovery_test = (gold_recovery_test[\n",
    "    (gold_recovery_test['rougher.input.feed_size'] > 20) &\n",
    "    (gold_recovery_test['rougher.input.feed_size'] <= 125) &\n",
    "    (gold_recovery_test['primary_cleaner.input.feed_size'] > 5) &\n",
    "    (gold_recovery_test['primary_cleaner.input.feed_size'] <= 10)\n",
    "])\n",
    "\n",
    "train_loss = len(gold_recovery_train) - len(recovery_train)\n",
    "test_loss = len(gold_recovery_test) - len(recovery_test)\n",
    "\n",
    "print(f'Loss in the training set: {train_loss}')\n",
    "print(f'Loss in the testing set: {test_loss}')"
   ]
  },
  {
   "cell_type": "markdown",
   "metadata": {},
   "source": [
    "Such losses are acceptable. An alternative well-known approach to eliminating anomalies involves cutting off all the values that lie beyond 1.5 interquartile range, but that does not seem a good option in this case. The data loss would be much more serious: 9208 objects would remain in the training set, and 4400 in the test (calculations omitted). That is due to the dependency of both variables and different distributions. Thus, the “visual” approach seems to be an appropriate trade-off."
   ]
  },
  {
   "cell_type": "markdown",
   "metadata": {},
   "source": [
    "## C. Total Concentrations"
   ]
  },
  {
   "cell_type": "markdown",
   "metadata": {},
   "source": [
    "Finally, in this section we study the total concentrations of substances at all stages of the process. These include copper, gold, silver and various impurities. Flotation reagents, such as xanthate, sodium sulfide and sodium silicate, will not be taken into account, since in the general case they temporarily remain within the unit and can even be separately removed from the system. The purpose of this analysis is to identify anomalies in the dataset, the presence of which may affect predictions of a future model. We will search for outliers by plotting boxplots, as they clearly demonstrate such values. Let us create a list of all the columns containing the necessary arrays."
   ]
  },
  {
   "cell_type": "code",
   "execution_count": 36,
   "metadata": {},
   "outputs": [],
   "source": [
    "full_con_list = [\n",
    "    'rougher.input.feed_ag', 'rougher.input.feed_pb', 'rougher.input.feed_sol',\n",
    "    'rougher.input.feed_au', 'rougher.output.concentrate_ag', 'rougher.output.concentrate_pb',\n",
    "    'rougher.output.concentrate_sol', 'rougher.output.concentrate_au',\n",
    "    'primary_cleaner.output.concentrate_ag', 'primary_cleaner.output.concentrate_pb',\n",
    "    'primary_cleaner.output.concentrate_sol', 'primary_cleaner.output.concentrate_au',\n",
    "    'final.output.concentrate_ag', 'final.output.concentrate_pb',\n",
    "    'final.output.concentrate_sol', 'final.output.concentrate_au'\n",
    "]"
   ]
  },
  {
   "cell_type": "markdown",
   "metadata": {},
   "source": [
    "There are multiple graphs to be plotted, so this process is subject to automation."
   ]
  },
  {
   "cell_type": "code",
   "execution_count": 37,
   "metadata": {},
   "outputs": [],
   "source": [
    "def box_plotter(array1, array2, title, ylabel, notch = True, labels = None,\n",
    "                showmeans = True, meanline = True):\n",
    "    \n",
    "    fig, axes = plt.subplots(figsize=(15, 7))\n",
    "\n",
    "    bplot = axes.boxplot([array1, array2], notch = notch, labels = labels,\n",
    "                         showmeans = showmeans, meanline = meanline)\n",
    "\n",
    "    axes.set_title(title)\n",
    "    axes.set_ylabel(ylabel)\n",
    "    axes.grid()"
   ]
  },
  {
   "cell_type": "code",
   "execution_count": 38,
   "metadata": {},
   "outputs": [
    {
     "data": {
      "image/png": "[encoded data removed]",
      "text/plain": [
       "<Figure size 1080x504 with 1 Axes>"
      ]
     },
     "metadata": {
      "needs_background": "light"
     },
     "output_type": "display_data"
    }
   ],
   "source": [
    "box_plotter(recovery_train[full_con_list[0:4]].sum(axis = 1),\n",
    "           recovery_test[full_con_list[0:4]].sum(axis = 1),\n",
    "           'Total concentration of \\n substances in the ore', 'Concentration % of feed',\n",
    "           labels = ['Training', 'Test'])"
   ]
  },
  {
   "cell_type": "markdown",
   "metadata": {},
   "source": [
    "We see the distribution of the concentration of metals and other impurities in the flotator feed. The whiskers length in each sample is approximately the same, as is the size of the boxes. The average is about 57-60% (the data hints it is denoted as a percentage) and is equal to the median. Both samples seem to be normally distributed. The only thing that is a bit strange is a certain number of zero values. They can be painlessly eliminated, although it is not compulsory. Something got into the system, but contained neither impurities nor metals. Just something else. We do not have sufficient information here, so it is difficult to find an appropriate reasoning."
   ]
  },
  {
   "cell_type": "code",
   "execution_count": 39,
   "metadata": {},
   "outputs": [
    {
     "data": {
      "image/png": "[encoded data removed]",
      "text/plain": [
       "<Figure size 1080x504 with 1 Axes>"
      ]
     },
     "metadata": {
      "needs_background": "light"
     },
     "output_type": "display_data"
    }
   ],
   "source": [
    "box_plotter(recovery_train[full_con_list[4:8]].sum(axis = 1),\n",
    "           recovery_test[full_con_list[4:8]].sum(axis = 1),\n",
    "           'Total concentration of substances\\n in the rougher output',\n",
    "            'Concentration % of feed', labels = ['Training', 'Testing'])"
   ]
  },
  {
   "cell_type": "markdown",
   "metadata": {},
   "source": [
    "The concentration increases as it passes the flotation. On this plot, it averages around 70-75%. The interquartile range on the training sample is slightly wider than on the testing one, while the whiskers are slightly longer. Asymmetry is in place: there are a heavy tails on the left, which in both datasets pull the average off the median. Sometimes the rough concentrate does not contain any of these substances, just as it happens at the entrance to the unit."
   ]
  },
  {
   "cell_type": "code",
   "execution_count": 40,
   "metadata": {},
   "outputs": [
    {
     "data": {
      "image/png": "[encoded data removed]",
      "text/plain": [
       "<Figure size 1080x504 with 1 Axes>"
      ]
     },
     "metadata": {
      "needs_background": "light"
     },
     "output_type": "display_data"
    }
   ],
   "source": [
    "box_plotter(recovery_train[full_con_list[8:12]].sum(axis = 1),\n",
    "            recovery_test[full_con_list[8:12]].sum(axis = 1),\n",
    "            'Total concentration of substances\\n in the primary output',\n",
    "            'Concentration % feed', labels = ['Training', 'Testing'])"
   ]
  },
  {
   "cell_type": "markdown",
   "metadata": {},
   "source": [
    "After the primary cleaning, the total concentration of substances in the product does not seem to change in its distribution shape: just as before, the mean deviates slightly from the median towards zero due to heavy tails on the left. Variance in both arrays gets reduced. On the whole, all that has been said about the rougher concentrate holds here, except for one point. For some reason, after a finer processing, the total concentration noticeably decreases reaching around 63-65% on average. We assume that we are not well aware of some of the technological nuances. Perhaps, it is more convenient to extract certain amount of gold from the tailings. This finding is worth mentioning in the final report."
   ]
  },
  {
   "cell_type": "code",
   "execution_count": 41,
   "metadata": {},
   "outputs": [
    {
     "data": {
      "image/png": "[encoded data removed]",
      "text/plain": [
       "<Figure size 1080x504 with 1 Axes>"
      ]
     },
     "metadata": {
      "needs_background": "light"
     },
     "output_type": "display_data"
    }
   ],
   "source": [
    "box_plotter(recovery_train[full_con_list[12:16]].sum(axis = 1),\n",
    "            recovery_test[full_con_list[12:16]].sum(axis = 1),\n",
    "            'Total concentration of substances\\n in the final output',\n",
    "            'Concentration % feed', labels = ['Training', 'Testing'])"
   ]
  },
  {
   "cell_type": "markdown",
   "metadata": {},
   "source": [
    "The final concentrate has the least variability across all stages. The whiskers in both cases are short and the boxes are narrow. As before, there is a large number of small values, including zeros. The mean grouped around 70-72%. Everything seems natural. Except for one point.\n",
    "\n",
    "At all the stages, the test sample means turned out to be higher than in the training. Truly, the training set is much larger and these results may be obtained by chance, but it happens systematically. This leads to a suspicion that the test sample was fundamentally poorly selected for research. Such a suspicion, in turn, forces us to conduct a statistical test. Let us check the equal means hypothesis for each stage. We are going to use the one-tail t-test. It does not require the samples to be the same size. Let confidence probability be equal to 0.05. Additionally, we can assume equal variances, which are generally confirmed by the look of boxplots. For faster results t-testing is looped."
   ]
  },
  {
   "cell_type": "code",
   "execution_count": 42,
   "metadata": {},
   "outputs": [
    {
     "name": "stdout",
     "output_type": "stream",
     "text": [
      "p-value: 2.3576542048138845e-205\n",
      "Reject Null Hypothesis\n",
      "p-value: 5.9534222946909e-51\n",
      "Reject Null Hypothesis\n",
      "p-value: 6.602664456731433e-39\n",
      "Reject Null Hypothesis\n",
      "p-value: 7.767017177885635e-22\n",
      "Reject Null Hypothesis\n"
     ]
    }
   ],
   "source": [
    "for i in range(0, 16, 4):\n",
    "    alpha = .05\n",
    "    results = st.ttest_ind(recovery_train[full_con_list[i: i + 4]].sum(axis = 1),\n",
    "                           recovery_test[full_con_list[i: i + 4]].sum(axis = 1),\n",
    "                           equal_var = True)\n",
    "    print('p-value:', results.pvalue / 2)\n",
    "    if (results.pvalue / 2 < alpha) and (\n",
    "        recovery_train[full_con_list[0:4]].sum(axis = 1).mean() <\n",
    "        recovery_test[full_con_list[0:4]].sum(axis = 1).mean()):\n",
    "        print(\"Reject Null Hypothesis\")\n",
    "    else:\n",
    "        print(\"Null Hypothesis cannot be rejected\")"
   ]
  },
  {
   "cell_type": "markdown",
   "metadata": {},
   "source": [
    "The probability of getting differences in mean concentrations of all substances in the feed is 2 to the power of -205! Well, it gradually increases up to 7.7 to the power of -22 in the final product but, obviously, this is a problem and it must be solved, otherwise further research would be meaningless. We can make several assumptions about why such results are obtained. First, relocation to a new site where the composition of the ore is qualitatively different. Second, as time passes, i.e. extraction continues, the ore composition may naturally change. Finally, the least probable scenario is thatthe recovery technology could have been modified in some way. Still it seems the matter is simply with the input material. Let us try to compare the dates of the observations."
   ]
  },
  {
   "cell_type": "code",
   "execution_count": 43,
   "metadata": {},
   "outputs": [
    {
     "name": "stdout",
     "output_type": "stream",
     "text": [
      "Observations in the training set date from 2016-01-15 00:00:00 to 2018-08-18 10:59:59\n",
      "Observations in the test set date from 2016-09-01 00:59:59 to 2017-12-31 23:59:59\n"
     ]
    }
   ],
   "source": [
    "first_record_train = pd.to_datetime(recovery_train.reset_index()['date']).min()\n",
    "last_record_train = pd.to_datetime(recovery_train.reset_index()['date']).max()\n",
    "first_record_test = pd.to_datetime(recovery_test.reset_index()['date']).min()\n",
    "last_record_test = pd.to_datetime(recovery_test.reset_index()['date']).max()\n",
    "print(f'Observations in the training set date from {first_record_train} to {last_record_train}')\n",
    "print(f'Observations in the test set date from {first_record_test} to {last_record_test}')"
   ]
  },
  {
   "cell_type": "markdown",
   "metadata": {},
   "source": [
    "The test set dates are a subset of the training set dates. The observations in the latter set were collected over 2 years and 7 months and over 1 year and 3 months in the former, which is twice as short. It is very doubtful that the test has been compiled randomly. Irrespectively of the actual reason the only thing left to do is to merge the samples and to randomly resplit it in the initial proportion. In the meantime, the balance of objects that has been slightly disturbed during the pre-procession would be recovered."
   ]
  },
  {
   "cell_type": "code",
   "execution_count": 44,
   "metadata": {},
   "outputs": [],
   "source": [
    "full_gold_data = (pd.concat([recovery_train, recovery_test])\n",
    "                  .sample(frac = 1, random_state = RANDOM_STATE))"
   ]
  },
  {
   "cell_type": "code",
   "execution_count": 45,
   "metadata": {},
   "outputs": [],
   "source": [
    "train, test = train_test_split(full_gold_data, test_size = .25, random_state = RANDOM_STATE)\n",
    "\n",
    "# Check split proportion:\n",
    "#print(train.shape[0] / len(full_gold_data))\n",
    "#print(test.shape[0] / len(full_gold_data))"
   ]
  },
  {
   "cell_type": "markdown",
   "metadata": {},
   "source": [
    "## Conclusion\n",
    "__________________\n",
    "Within the distributions themselves, no anomalies in the total concentration of substances at any stages in neither sample have been detected. There is a number of 0% values, but this can be hardly considered an anomaly. It might happen under the assumption that the product contains some type of impurities other than denoted by \"feed_sol\" feature, which is the case. The sum of all concentrations and tailings is close, but not equal to 100% (checking this fact is offered to the reader). At the same time, a drop in this value at the cleaning stage with its subsequent increase in the output seems somewhat strange. This point should be clarified by the company process engineers.\n",
    "\n",
    "A global anomaly was identified when comparing all distributions in both samples with one another. At all stages, the average for the test sample was significantly higher than for the training one. Subsequent statistical testing confirmed that it is practically impossible to obtain such differences by chance, thus, the test sample was poorly selected. The dates of the observations also confirm this. Finally, due to the inability to request a company’s comment on this issue, it was decided to merge both datasets into one, shuffle it and randomly split again in the original proportion."
   ]
  },
  {
   "cell_type": "markdown",
   "metadata": {},
   "source": [
    "# 3. MODELING\n",
    "_______________________\n",
    "This section is devoted to choosing the features for the training, defining a quality metric function, choosing suitable models, cross-validating their predictions, picking the best model, and, finally, testing it on the corresponding sample."
   ]
  },
  {
   "cell_type": "markdown",
   "metadata": {},
   "source": [
    "There are two target features to be predicted: 'rougher.output.recovery' (efficiency of gold ore mixture recovery) and 'final.output.recovery' (efficiency of the intermediate concentrate recovery). To this end, it seems reasonable to divide all the features in both samples into those that belong to the first and second target feature, and then train two models on these divisions. The company expects weighted sMAPE metric (see the project description) to be minimized. Let us decide how to divide the features.\n",
    "\n",
    "First off, an obvious choice is the variables from the recovery calculation formula. They have been studied in the previous section. The concentrations of other metals and impurities could also be included in the training features. As reagents, liquid levels, and air volume within the flotation unit affect the recovery process, they must also serve as estimators for the model. Since engineering calculations are not empirical data, they should be discarded. All other output concentrations, including tailings (except those containing gold), would be redundant.\n",
    "\n",
    "As far as the second target feature is concerned, a set of variables corresponding to the subsequent process stages should estimate it. This includes the product characteristics at the entrance to the primary cleaner (other metals and substances) and excludes intermediate and final tailings and concentrations that are not related to gold. System parameters and additional chemical components will also be involved in the training. Using the lists, we explicitly indicate which columns are going be used to avoid mistakes and to make the choice transparent."
   ]
  },
  {
   "cell_type": "code",
   "execution_count": 46,
   "metadata": {},
   "outputs": [],
   "source": [
    "float_params = ['rougher.input.feed_ag', 'rougher.input.feed_pb', 'rougher.input.feed_rate',\n",
    "'rougher.input.feed_size', 'rougher.input.feed_sol', 'rougher.input.feed_au',\n",
    "'rougher.input.floatbank10_sulfate', 'rougher.input.floatbank10_xanthate',\n",
    "'rougher.input.floatbank11_sulfate', 'rougher.input.floatbank11_xanthate',\n",
    "'rougher.output.concentrate_au', 'rougher.output.recovery', 'rougher.output.tail_au',\n",
    "'rougher.state.floatbank10_a_air', 'rougher.state.floatbank10_a_level',\n",
    "'rougher.state.floatbank10_b_air', 'rougher.state.floatbank10_b_level',\n",
    "'rougher.state.floatbank10_c_air', 'rougher.state.floatbank10_c_level',\n",
    "'rougher.state.floatbank10_d_air', 'rougher.state.floatbank10_d_level',\n",
    "'rougher.state.floatbank10_e_air', 'rougher.state.floatbank10_e_level',\n",
    "'rougher.state.floatbank10_f_air', 'rougher.state.floatbank10_f_level']"
   ]
  },
  {
   "cell_type": "code",
   "execution_count": 47,
   "metadata": {},
   "outputs": [],
   "source": [
    "final_params = ['primary_cleaner.input.sulfate', 'primary_cleaner.input.depressant',\n",
    "'primary_cleaner.input.feed_size', 'primary_cleaner.input.xanthate',\n",
    "'primary_cleaner.output.concentrate_au', 'primary_cleaner.output.tail_au',\n",
    "'primary_cleaner.state.floatbank8_a_air', 'primary_cleaner.state.floatbank8_a_level',\n",
    "'primary_cleaner.state.floatbank8_b_air', 'primary_cleaner.state.floatbank8_b_level',\n",
    "'primary_cleaner.state.floatbank8_c_air', 'primary_cleaner.state.floatbank8_c_level',\n",
    "'primary_cleaner.state.floatbank8_d_air', 'primary_cleaner.state.floatbank8_d_level', \n",
    "'secondary_cleaner.output.tail_au', 'secondary_cleaner.state.floatbank2_a_air',\n",
    "'secondary_cleaner.state.floatbank2_a_level', 'secondary_cleaner.state.floatbank2_b_air',\n",
    "'secondary_cleaner.state.floatbank2_b_level', 'secondary_cleaner.state.floatbank3_a_air', \n",
    "'secondary_cleaner.state.floatbank3_a_level', 'secondary_cleaner.state.floatbank3_b_air',\n",
    "'secondary_cleaner.state.floatbank3_b_level', 'secondary_cleaner.state.floatbank4_a_air',\n",
    "'secondary_cleaner.state.floatbank4_a_level', 'secondary_cleaner.state.floatbank4_b_air',\n",
    "'secondary_cleaner.state.floatbank4_b_level', 'secondary_cleaner.state.floatbank5_a_air',\n",
    "'secondary_cleaner.state.floatbank5_a_level', 'secondary_cleaner.state.floatbank5_b_air',\n",
    "'secondary_cleaner.state.floatbank5_b_level', 'secondary_cleaner.state.floatbank6_a_air',\n",
    "'secondary_cleaner.state.floatbank6_a_level', 'final.output.concentrate_au', \n",
    "'final.output.recovery', 'final.output.tail_au']"
   ]
  },
  {
   "cell_type": "markdown",
   "metadata": {},
   "source": [
    "Surely, not the prettiest code, but easy to follow."
   ]
  },
  {
   "cell_type": "code",
   "execution_count": 48,
   "metadata": {},
   "outputs": [],
   "source": [
    "X_train_float = train[float_params].copy().drop(['rougher.output.recovery'], axis = 1)\n",
    "X_train_final = train[final_params].copy().drop(['final.output.recovery'], axis = 1)\n",
    "X_test_float = test[float_params].copy().drop(['rougher.output.recovery'], axis = 1)\n",
    "X_test_final = test[final_params].copy().drop(['final.output.recovery'], axis = 1)\n",
    "\n",
    "y_train_float = train['rougher.output.recovery'].copy()\n",
    "y_train_final = train['final.output.recovery'].copy()\n",
    "y_test_float = test['rougher.output.recovery'].copy()\n",
    "y_test_final = test['final.output.recovery'].copy()"
   ]
  },
  {
   "cell_type": "markdown",
   "metadata": {},
   "source": [
    "All the features in the datasets are real numbers, including the target ones, therefore, the regression problem is being solved - relevant regression models should be considered. The number of objects in the data does not exceed 100,000 and they are represented by a fairly large number of parameters. For this reason, the linear regression and the support vector machine (namely, its linear and radial-basis version) are proposed as the candidate models (see imports in the first code cell). The random forest could also be good option; however, due to the given conditions of the problem, this model is not suitable. In the sklearn library, the default quality metric for this algorithm is MSE and setting a custom function (sMAPE in our case), unfortunately, is not yet supported.\n",
    "\n",
    "The training features are grouped and the models selected. Now, define the function for the prediction quality (sMAPE metric)."
   ]
  },
  {
   "cell_type": "code",
   "execution_count": 49,
   "metadata": {},
   "outputs": [],
   "source": [
    "def sMAPE(y_true, y_pred):\n",
    "    y_true = np.array(y_true)\n",
    "    y_pred = np.array(y_pred)\n",
    "    abs_error = np.abs(y_true - y_pred)\n",
    "    abs_mean = (np.abs(y_true) + np.abs(y_pred)) / 2\n",
    "    sum_terms = (abs_error / abs_mean)\n",
    "    sMAPE = np.mean(sum_terms) * 100\n",
    "    return sMAPE\n",
    "\n",
    "\n",
    "def weighted_sMAPE(smape1, smape2, w1 = FLOAT_SMAPE_WEIGHT, w2 = FINAL_SMAPE_WEIGHT):\n",
    "    result = (w1 * smape1) + (w2 * smape2)\n",
    "    return result"
   ]
  },
  {
   "cell_type": "markdown",
   "metadata": {},
   "source": [
    "The cross-validation requires converting the above function to the sklearn object to use it as a custom scoring method. We are going to do this with the \"make_scorer\" tool. It has the \"greater_is_better\" parameter, which should be set to false. As long as the metric itself is an error estimator, all of its values have to be negated to solve the minimization problem. This is exactly what this parameter does."
   ]
  },
  {
   "cell_type": "code",
   "execution_count": 50,
   "metadata": {},
   "outputs": [],
   "source": [
    "sMAPE_error = make_scorer(sMAPE, greater_is_better = False)"
   ]
  },
  {
   "cell_type": "markdown",
   "metadata": {},
   "source": [
    "Since the sample values all have different scale, they are subject to normalization. Although the random forest predictions would not be significantly improved, for other selected models normalization is strongly recommended."
   ]
  },
  {
   "cell_type": "code",
   "execution_count": 51,
   "metadata": {},
   "outputs": [],
   "source": [
    "scaler_float = StandardScaler().fit(X_train_float)\n",
    "X_train_float_scaled = scaler_float.transform(X_train_float)\n",
    "X_test_float_scaled = scaler_float.transform(X_test_float)\n",
    "\n",
    "scaler_final = StandardScaler().fit(X_train_final)\n",
    "X_train_final_scaled = scaler_final.transform(X_train_final)\n",
    "X_test_final_scaled = scaler_final.transform(X_test_final)"
   ]
  },
  {
   "cell_type": "markdown",
   "metadata": {},
   "source": [
    "Now cross-validate the prediction quality (sMAPE) of the models. Let the k-folds be equal to 5, so that the calculations do not take much time. The results are going to be packed into a table."
   ]
  },
  {
   "cell_type": "code",
   "execution_count": 52,
   "metadata": {},
   "outputs": [],
   "source": [
    "warnings.filterwarnings(\"ignore\", category = FutureWarning)\n",
    "\n",
    "quality_float = list()\n",
    "quality_final = list()\n",
    "for model in [LinearRegression(), SVR(kernel = 'linear'), SVR()]:\n",
    "    error_float = cross_val_score(model, X_train_float_scaled, y_train_float, scoring = sMAPE_error, cv = 5)\n",
    "    quality_float.append(error_float)\n",
    "    error_final = cross_val_score(model, X_train_final_scaled, y_train_final, scoring = sMAPE_error, cv = 5)\n",
    "    quality_final.append(error_final)"
   ]
  },
  {
   "cell_type": "code",
   "execution_count": 53,
   "metadata": {},
   "outputs": [
    {
     "data": {
      "text/html": [
       "<div>\n",
       "<style scoped>\n",
       "    .dataframe tbody tr th:only-of-type {\n",
       "        vertical-align: middle;\n",
       "    }\n",
       "\n",
       "    .dataframe tbody tr th {\n",
       "        vertical-align: top;\n",
       "    }\n",
       "\n",
       "    .dataframe thead th {\n",
       "        text-align: right;\n",
       "    }\n",
       "</style>\n",
       "<table border=\"1\" class=\"dataframe\">\n",
       "  <thead>\n",
       "    <tr style=\"text-align: right;\">\n",
       "      <th></th>\n",
       "      <th>Linear Regression</th>\n",
       "      <th>SVR (linear)</th>\n",
       "      <th>SVR (rbf)</th>\n",
       "    </tr>\n",
       "  </thead>\n",
       "  <tbody>\n",
       "    <tr>\n",
       "      <th>0</th>\n",
       "      <td>-9.905576</td>\n",
       "      <td>-6.062110</td>\n",
       "      <td>-5.438265</td>\n",
       "    </tr>\n",
       "    <tr>\n",
       "      <th>1</th>\n",
       "      <td>-8.850211</td>\n",
       "      <td>-5.141286</td>\n",
       "      <td>-4.537203</td>\n",
       "    </tr>\n",
       "    <tr>\n",
       "      <th>2</th>\n",
       "      <td>-9.886403</td>\n",
       "      <td>-6.652043</td>\n",
       "      <td>-6.106692</td>\n",
       "    </tr>\n",
       "    <tr>\n",
       "      <th>3</th>\n",
       "      <td>-10.309460</td>\n",
       "      <td>-6.656192</td>\n",
       "      <td>-6.149035</td>\n",
       "    </tr>\n",
       "    <tr>\n",
       "      <th>4</th>\n",
       "      <td>-8.929066</td>\n",
       "      <td>-6.122697</td>\n",
       "      <td>-5.540479</td>\n",
       "    </tr>\n",
       "  </tbody>\n",
       "</table>\n",
       "</div>"
      ],
      "text/plain": [
       "   Linear Regression  SVR (linear)  SVR (rbf)\n",
       "0          -9.905576     -6.062110  -5.438265\n",
       "1          -8.850211     -5.141286  -4.537203\n",
       "2          -9.886403     -6.652043  -6.106692\n",
       "3         -10.309460     -6.656192  -6.149035\n",
       "4          -8.929066     -6.122697  -5.540479"
      ]
     },
     "execution_count": 53,
     "metadata": {},
     "output_type": "execute_result"
    }
   ],
   "source": [
    "cv_float_results = pd.DataFrame(data = {'Linear Regression': quality_float[0], 'SVR (linear)': quality_float[1],\n",
    "                                        'SVR (rbf)': quality_float[2]})\n",
    "cv_final_results = pd.DataFrame(data = {'Linear Regression': quality_final[0], 'SVR (linear)': quality_final[1],\n",
    "                                        'SVR (rbf)': quality_final[2]})\n",
    "cv_float_results"
   ]
  },
  {
   "cell_type": "code",
   "execution_count": 54,
   "metadata": {},
   "outputs": [
    {
     "data": {
      "text/plain": [
       "Linear Regression   -9.576143\n",
       "SVR (linear)        -6.126866\n",
       "SVR (rbf)           -5.554335\n",
       "dtype: float64"
      ]
     },
     "execution_count": 54,
     "metadata": {},
     "output_type": "execute_result"
    }
   ],
   "source": [
    "cv_float_results.mean(axis = 0)"
   ]
  },
  {
   "cell_type": "markdown",
   "metadata": {},
   "source": [
    "The dataframe index represents the number of a validation subsample (fold). Clearly, the SVR with rbf-kernel provides the best predictions of the gold recovery efficiency at the flotation stage. On average the quality metric on 5 validation folds was just over 5.5% (remember the make_scorer artificially negates the results). sMAPE of the linear regression and SVR resulted in 9.6 and 6.12% respectively."
   ]
  },
  {
   "cell_type": "code",
   "execution_count": 55,
   "metadata": {},
   "outputs": [
    {
     "data": {
      "text/html": [
       "<div>\n",
       "<style scoped>\n",
       "    .dataframe tbody tr th:only-of-type {\n",
       "        vertical-align: middle;\n",
       "    }\n",
       "\n",
       "    .dataframe tbody tr th {\n",
       "        vertical-align: top;\n",
       "    }\n",
       "\n",
       "    .dataframe thead th {\n",
       "        text-align: right;\n",
       "    }\n",
       "</style>\n",
       "<table border=\"1\" class=\"dataframe\">\n",
       "  <thead>\n",
       "    <tr style=\"text-align: right;\">\n",
       "      <th></th>\n",
       "      <th>Linear Regression</th>\n",
       "      <th>SVR (linear)</th>\n",
       "      <th>SVR (rbf)</th>\n",
       "    </tr>\n",
       "  </thead>\n",
       "  <tbody>\n",
       "    <tr>\n",
       "      <th>0</th>\n",
       "      <td>-6.169324</td>\n",
       "      <td>-5.865063</td>\n",
       "      <td>-4.687624</td>\n",
       "    </tr>\n",
       "    <tr>\n",
       "      <th>1</th>\n",
       "      <td>-6.381671</td>\n",
       "      <td>-5.972672</td>\n",
       "      <td>-4.922879</td>\n",
       "    </tr>\n",
       "    <tr>\n",
       "      <th>2</th>\n",
       "      <td>-6.061332</td>\n",
       "      <td>-5.801414</td>\n",
       "      <td>-4.732481</td>\n",
       "    </tr>\n",
       "    <tr>\n",
       "      <th>3</th>\n",
       "      <td>-6.811580</td>\n",
       "      <td>-6.560991</td>\n",
       "      <td>-5.610785</td>\n",
       "    </tr>\n",
       "    <tr>\n",
       "      <th>4</th>\n",
       "      <td>-6.502391</td>\n",
       "      <td>-6.135961</td>\n",
       "      <td>-5.227723</td>\n",
       "    </tr>\n",
       "  </tbody>\n",
       "</table>\n",
       "</div>"
      ],
      "text/plain": [
       "   Linear Regression  SVR (linear)  SVR (rbf)\n",
       "0          -6.169324     -5.865063  -4.687624\n",
       "1          -6.381671     -5.972672  -4.922879\n",
       "2          -6.061332     -5.801414  -4.732481\n",
       "3          -6.811580     -6.560991  -5.610785\n",
       "4          -6.502391     -6.135961  -5.227723"
      ]
     },
     "execution_count": 55,
     "metadata": {},
     "output_type": "execute_result"
    }
   ],
   "source": [
    "cv_final_results"
   ]
  },
  {
   "cell_type": "code",
   "execution_count": 56,
   "metadata": {},
   "outputs": [
    {
     "data": {
      "text/plain": [
       "Linear Regression   -6.385260\n",
       "SVR (linear)        -6.067220\n",
       "SVR (rbf)           -5.036298\n",
       "dtype: float64"
      ]
     },
     "execution_count": 56,
     "metadata": {},
     "output_type": "execute_result"
    }
   ],
   "source": [
    "cv_final_results.mean(axis = 0)"
   ]
  },
  {
   "cell_type": "markdown",
   "metadata": {},
   "source": [
    "sMAPE of the final stage recovery predictions (at the exit from the system) has arranged in a similar order. Again, the radial basis SVR has demonstrated the best performance of 5%. Its linear version showed 6%, while a simple linear regression is even 0.3% worse. So, the radial basis kernel SVR is the best choice for a prototype model. Now fit 2 of its instances on the entire training data, test and weigh the metrics."
   ]
  },
  {
   "cell_type": "code",
   "execution_count": 57,
   "metadata": {},
   "outputs": [
    {
     "name": "stdout",
     "output_type": "stream",
     "text": [
      "Weighted sMAPE of SVR (rbf) is 5.05%\n"
     ]
    }
   ],
   "source": [
    "svr_float = SVR().fit(X_train_float_scaled, y_train_float)\n",
    "svr_final = SVR().fit(X_train_final_scaled, y_train_final)\n",
    "\n",
    "predicted_float = svr_float.predict(X_test_float_scaled)\n",
    "predicted_final = svr_final.predict(X_test_final_scaled)\n",
    "\n",
    "# Weights have been declared as global variables in the import cell.\n",
    "weighted_metric = weighted_sMAPE(sMAPE(y_test_float, predicted_float), sMAPE(y_test_final, predicted_final))\n",
    "\n",
    "print(f'Weighted sMAPE of SVR (rbf) is {round(weighted_metric, 2)}%')"
   ]
  },
  {
   "cell_type": "markdown",
   "metadata": {},
   "source": [
    "Quite a good result for a prototype model has been obtained. Its symmetric mean absolute percentage error is 5%. It is now up to the company to decide whether it is a lot or a little, because it possesses all necessary business metrics for evaluation. The final step is a quick sanity-check. Let us look at how much better the fit model predicts the target than a simple averaging."
   ]
  },
  {
   "cell_type": "code",
   "execution_count": 58,
   "metadata": {},
   "outputs": [
    {
     "name": "stdout",
     "output_type": "stream",
     "text": [
      "Weighted sMAPE of averaging is 9.6%\n"
     ]
    }
   ],
   "source": [
    "mean_preds_float = np.full((len(y_test_float), 1), y_test_float.mean())\n",
    "mean_preds_final = np.full((len(y_test_final), 1), y_test_final.mean())\n",
    "\n",
    "comparision = weighted_sMAPE(sMAPE(y_test_float, mean_preds_float), sMAPE(y_test_final, mean_preds_final))\n",
    "print(f'Weighted sMAPE of averaging is {round(comparision, 2)}%')"
   ]
  },
  {
   "cell_type": "markdown",
   "metadata": {},
   "source": [
    "The final model is sane, since the averaging model is as twice as worse in predicting the target values showing 9.6%."
   ]
  },
  {
   "cell_type": "markdown",
   "metadata": {},
   "source": [
    "## Conclusion\n",
    "________________\n",
    "The training and test sample was divided into two parts: features estimating the flotation recovery of ore mixture and cleaning (both primary and secondary) recovery. Redundant parameters, such as engineering calculations and intermediate concentrations of non-gold related substances, were dropped. Then, the function for quality metric (sMAPE) calculation was defined. Cross-validation with 5 folds for each target feature was carried out for the most suitable models: linear regression and two types of SVR. According to the results, the SVR model with a radial basis kernel function turned out to be the best in predicting both targets. Further fitting it on all the training data and testing showed that a weighted quality metric was 5%."
   ]
  },
  {
   "cell_type": "markdown",
   "metadata": {},
   "source": [
    "# FINAL CONCLUSION\n",
    "___________________________\n",
    "\n",
    "## BUG-REPORT\n",
    "\n",
    "Examination of the datasets provided by the company revealed several problems. First, the data contained a rather large number of empty entries. Their elimination led to the loss of about a third of the training objects. Second, the test sample was incomplete: it lacked output parameters of the process units. Since there was an indication that the full dataset contained all the necessary data, the missing columns were restored by the dates of observation. As no error occurred, all indicators had been, in fact, received on time. Third, exploratory and statistical analysis revealed that the test sample had been poorly selected violating the randomness principle in the first place. This is proved by cross-stage distributions of the total concentration of all substances. The means in the test sample were significantly higher than in the training one. The probability of obtaining such differences by chance at a 5% significance level tends to zero. The timestamps showed that the period of observation in the test data does not correspond to the relevant period in the training. These findings, as well as the inability to explain the nature of the detected anomaly, left no option but to randomly resplit the data into a training and test sample. Fourth, no units for features have been provided by the company in the data description, which caused some confusion and prevented a more accurate interpretation of the results. This also included the incompleteness in the technological process description; therefore, it was not possible to explain the additional tailings (final) column. Also, it was unclear why the concentration of lead in the product increased during recovery (is it even removed?) and impossible to calculate the gold recovery for the final stage using the formula. Finally, zero values were found in the feed size column.\n",
    "\n",
    "## RESEARCH RESULTS\n",
    "\n",
    "The pre-processed data in the training and test sample was divided into two subsamples according to their target features ('rougher.output.recovery' and 'final.output.recovery'). The estimators for each of the targets included recovery formula terms and the parameters characterizing the state of the process process state. Such an approach could be useful in the future for process engineers to determine implicit dependencies. Linear regression and SVR models (also linear and radial basis) were selected as the prototype candidates. Cross-validation of the sMAPE metric showed that the best of them was the SVR model with a radial basis kernel. On average across 5 folds, the error of its predictions for the flotation efficiency amounted 5.5%, whereas for cleaning unit it reached 5%. The final weighted metric (weights: 0.25 and 0.75) on the test data was 5%, which, apparently, is a good result for the prototype. However, only the company can realistically evaluate it taking business metrics into consideration. In conclusion, it should be stated that the resolution of the problems mentioned in the bug report may allow us to adjust the approach to building the model and, as a result, substantially improve the prototype's quality."
   ]
  }
 ],
 "metadata": {
  "kernelspec": {
   "display_name": "Python 3",
   "language": "python",
   "name": "python3"
  },
  "language_info": {
   "codemirror_mode": {
    "name": "ipython",
    "version": 3
   },
   "file_extension": ".py",
   "mimetype": "text/x-python",
   "name": "python",
   "nbconvert_exporter": "python",
   "pygments_lexer": "ipython3",
   "version": "3.7.6"
  }
 },
 "nbformat": 4,
 "nbformat_minor": 2
}
